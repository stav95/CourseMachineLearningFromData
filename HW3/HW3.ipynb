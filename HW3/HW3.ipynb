{
  "nbformat": 4,
  "nbformat_minor": 0,
  "metadata": {
    "kernelspec": {
      "display_name": "Python 3",
      "language": "python",
      "name": "python3"
    },
    "language_info": {
      "codemirror_mode": {
        "name": "ipython",
        "version": 3
      },
      "file_extension": ".py",
      "mimetype": "text/x-python",
      "name": "python",
      "nbconvert_exporter": "python",
      "pygments_lexer": "ipython3",
      "version": "3.7.5"
    },
    "colab": {
      "name": "hw3_313581654_316298876.ipynb",
      "provenance": [],
      "collapsed_sections": [],
      "toc_visible": true
    }
  },
  "cells": [
    {
      "cell_type": "markdown",
      "metadata": {
        "id": "M0GcLhZibt98"
      },
      "source": [
        "# Exercise 3: MAP Classifier\n",
        "\n",
        "In this assignment you will implement a few of the MAP classifiers learned in class.\n",
        "\n",
        "## Read the following instructions carefully:\n",
        "\n",
        "1. This jupyter notebook contains all the step by step instructions needed for this part of the exercise.\n",
        "2. Write vectorized code whenever possible.\n",
        "3. You are responsible for the correctness of your code and should add as many tests as you see fit. Tests will not be graded nor checked.\n",
        "4. Write your functions in this notebook only.\n",
        "5. You are allowed to use functions and methods from the [Python Standard Library](https://docs.python.org/3/library/) and [numpy](https://www.numpy.org/devdocs/reference/) only. \n",
        "6. Your code must run without errors. During the environment setup, you were given a specific version of `numpy` to install. Changes of the configuration we provided are at your own risk. Code that cannot run will also earn you the grade of 0.\n",
        "7. Write your own code. Cheating will not be tolerated. \n",
        "8. Submission includes this notebook and the answers to the theoretical part. Answers to qualitative questions should be written in markdown cells (with $\\LaTeX$ support).\n",
        "9. You can add additional functions.\n",
        "10. Submission: zip only the completed jupyter notebook and the PDF with your solution for the theory part. Do not include the data or any directories. Name the file `ID1_ID2.zip` and submit **only one copy of the assignment**.\n",
        "\n",
        "## In this exercise you will perform the following:\n",
        "1. Implement a Naive Bayes Classifier based on Multi-Normal distribution\n",
        "1. Implement a Full Bayes Classifier based on Multi-Normal distribution\n",
        "1. Implement a Discrete Naive Bayes Classifier"
      ]
    },
    {
      "cell_type": "code",
      "metadata": {
        "id": "Ou2ZTA5Bbt-C"
      },
      "source": [
        "import numpy as np\n",
        "import pandas as pd\n",
        "import matplotlib.pyplot as plt"
      ],
      "execution_count": 9,
      "outputs": []
    },
    {
      "cell_type": "markdown",
      "metadata": {
        "id": "R3luzaxYbt-C"
      },
      "source": [
        "\n",
        "# Normal Naive Bayes Classifier Vs Normal Full Bayes Classifier\n",
        "In the following section we are going to compare 2 models on a given dataset. <br>\n",
        "The 2 classifiers we are going to test are:\n",
        "1. Naive Bayes classifer.<br>\n",
        "1. Full Bayes classifier.<br>\n",
        "Recall that a Naive Bayes classifier makes the following assumption :<br> \n",
        "## $$ p(x_1, x_2, ..., x_n|A_j) = \\Pi p(x_i | A_j) $$\n",
        "But the full Bayes classifier will not make this assumption.<br>"
      ]
    },
    {
      "cell_type": "markdown",
      "metadata": {
        "id": "xmMvR7kpbt-D"
      },
      "source": [
        "### The Data Story"
      ]
    },
    {
      "cell_type": "markdown",
      "metadata": {
        "id": "18m8viCcbt-D"
      },
      "source": [
        "In a faraway land called **Randomistan** there is a rare animal called the **Randomammal**.<br> \n",
        "We have gathered data about this unique animal to help the **randomian** researchers in observing this beast. <br>\n",
        "For a 1000 days straight we have measured the temperature and the humidity in Randomistan and whether the Randomammal was spotted or not. <br>\n",
        "The well known randomian **Bob** is a bit of a lazy researcher so he likes to keep things simple, and so he assumes that the temperature and the humidity are independent given the class. <br>\n",
        "**Alice** on the other hand is a hard working researcher and does not make any assumptions, she's young and is trying to gain some fame in the randomian community.\n",
        "\n",
        "The dataset contains 2 features (**Temperature**, **Humidity**) alongside a binary label (**Spotted**) for each instance.<br>\n",
        "\n",
        "We are going to test 2 different classifiers :\n",
        "* Naive Bayes Classifier (Bob)\n",
        "* Full Bayes Classifier. (Alice)\n",
        "\n",
        "Both of our researchers assume that our features are normally distributed. But while Bob with his Naive classifier will assume that the features are independent, Alice and her Full Bayes classifier will not make this assumption.<br><br>\n",
        "Let's start off by loading the data (train, test) into a pandas dataframe and then converting them\n",
        "into numpy arrays.<br>\n",
        "The datafiles are :\n",
        "- randomammal_train.csv\n",
        "- randomammal_test.csv"
      ]
    },
    {
      "cell_type": "code",
      "metadata": {
        "id": "2ktE_N43bt-E"
      },
      "source": [
        "# Load the train and test set into a pandas dataframe and convert them into a numpy array.\n",
        "train_set = pd.read_csv('data/randomammal_train.csv').values\n",
        "test_set = pd.read_csv('data/randomammal_test.csv').values"
      ],
      "execution_count": 10,
      "outputs": []
    },
    {
      "cell_type": "markdown",
      "metadata": {
        "id": "-9e3J6-Xbt-E"
      },
      "source": [
        "# Data Visualization\n",
        "Draw a scatter plot of the training data where __x__=Temerature and **y**=Humidity. <br>\n",
        "Use color to distinguish points from different classes.<br>\n",
        "Stop for a minute to think about Alice and Bob's approaches and which one you expect to work better."
      ]
    },
    {
      "cell_type": "code",
      "metadata": {
        "id": "mgD_iuf0bt-E",
        "colab": {
          "base_uri": "https://localhost:8080/",
          "height": 523
        },
        "outputId": "91894429-b609-493e-92f9-4d2a91f4bec6"
      },
      "source": [
        "spotted = train_set[train_set[:, -1] == 1]\n",
        "not_spotted = train_set[train_set[:, -1] == 0]\n",
        "\n",
        "plt.rcParams[\"figure.figsize\"] = (12, 8)\n",
        "\n",
        "plt.scatter(x=spotted[:, 0], y=spotted[:, 1], s=8, c='green', label='Spotted')\n",
        "plt.scatter(x=not_spotted[:, 0], y=not_spotted[:, 1], s=8, c='red', label='Not Spotted')\n",
        "\n",
        "plt.title('Temperature vs. Humidity', fontsize=22, color='salmon')\n",
        "plt.xlabel('Temerature', fontsize=14)\n",
        "plt.ylabel('Humidity', fontsize=14)\n",
        "\n",
        "plt.legend(prop={'size': 12})\n",
        "plt.show()"
      ],
      "execution_count": 11,
      "outputs": [
        {
          "output_type": "display_data",
          "data": {
            "image/png": "[encoded data removed]",
            "text/plain": [
              "<Figure size 864x576 with 1 Axes>"
            ]
          },
          "metadata": {
            "tags": [],
            "needs_background": "light"
          }
        }
      ]
    },
    {
      "cell_type": "markdown",
      "metadata": {
        "id": "CCq2ic6Ebt-E"
      },
      "source": [
        "## Bob's Naive Model\n",
        "\n",
        "Start with implementing the [normal distribution](https://en.wikipedia.org/wiki/Normal_distribution) probability density function in the next cell: \n",
        "$$ \\frac{1}{\\sqrt{2\\pi \\sigma^2}} \\cdot e ^{-\\frac{(x - \\mu)^2}{2\\sigma^2}} $$\n",
        "Where :\n",
        "* $\\mu$ is the distribution mean.\n",
        "* $\\sigma$ is the distribution standard deviation."
      ]
    },
    {
      "cell_type": "markdown",
      "metadata": {
        "id": "s3t_4OIybt-F"
      },
      "source": [
        "Recall that when using the naive assumption, we assume our features are indepenent given the class. Meaning:\n",
        "$$ P(x_1, x_2 | Y) = p(x_1 | Y) \\cdot p(x_2 | Y)$$\n",
        "\n",
        "\n",
        "Since we assume our features are normally distributed we need to find the mean and std for each feature in order for us to compute those probabilites. Implement the **NaiveNormalClassDistribution** in the next cell and build a distribution object for each class."
      ]
    },
    {
      "cell_type": "code",
      "metadata": {
        "id": "j2xN4abRbt-F"
      },
      "source": [
        "def normal_pdf(x: np.ndarray, mean: np.ndarray, std: np.ndarray) -> np.ndarray:\n",
        "    \"\"\"\n",
        "    Calculate normal desnity function for a given x, mean and standrad deviation.\n",
        "\n",
        "    Input:\n",
        "    - x: A value we want to compute the distribution for.\n",
        "    - mean: The mean value of the distribution.\n",
        "    - std:  The standard deviation of the distribution.\n",
        "\n",
        "    Returns the normal distribution pdf according to the given mean and var for the given x.\n",
        "    \"\"\"\n",
        "\n",
        "    return (1 / (np.sqrt(2 * np.pi * np.power(std, 2)))) * np.exp((-(np.power(x - mean, 2)) / (2 * np.power(std, 2))))\n",
        "\n",
        "\n",
        "class NaiveNormalClassDistribution:\n",
        "    def __init__(self, dataset: np.ndarray, class_value: int):\n",
        "        \"\"\"\n",
        "        A class which encapsulates the relevant parameters(mean, std) for a class conditinoal normal distribution.\n",
        "        The mean and std are computed from a given data set.\n",
        "\n",
        "        Input\n",
        "        - dataset: The dataset as a numpy array\n",
        "        - class_value : The class to calculate the parameters for.\n",
        "        \"\"\"\n",
        "\n",
        "        self.dataset = dataset\n",
        "        self.class_value = class_value\n",
        "\n",
        "        self.dataset_by_class: np.ndarray = self.dataset[self.dataset[:, -1] == self.class_value]\n",
        "        self.means = self.dataset_by_class[:, :-1].mean(axis=0)\n",
        "        self.stds = self.dataset_by_class[:, :-1].std(axis=0)\n",
        "\n",
        "    def get_prior(self) -> float:\n",
        "        \"\"\"\n",
        "        Returns the prior porbability of the class according to the dataset distribution.\n",
        "        \"\"\"\n",
        "\n",
        "        return self.dataset_by_class.shape[0] / self.dataset.shape[0]\n",
        "\n",
        "    def get_instance_likelihood(self, x: np.ndarray) -> np.ndarray:\n",
        "        \"\"\"\n",
        "        Returns the likelihhod porbability of the instance under the class according to the dataset distribution.\n",
        "        \"\"\"\n",
        "\n",
        "        pdfs = normal_pdf(x=x, mean=self.means, std=self.stds)\n",
        "\n",
        "        return np.prod(pdfs, axis=1)\n",
        "\n",
        "    def get_instance_posterior(self, x: np.ndarray) -> np.ndarray:\n",
        "        \"\"\"\n",
        "        Returns the posterior porbability of the instance under the class according to the dataset distribution.\n",
        "        * Ignoring p(x)\n",
        "        \"\"\"\n",
        "\n",
        "        return self.get_prior() * self.get_instance_likelihood(x=x)"
      ],
      "execution_count": 12,
      "outputs": []
    },
    {
      "cell_type": "code",
      "metadata": {
        "id": "nhx_HWDvbt-F"
      },
      "source": [
        "# Build the a NaiveNormalClassDistribution for each class.\n",
        "naive_normal_CD_0 = NaiveNormalClassDistribution(dataset=train_set, class_value=0)\n",
        "naive_normal_CD_1 = NaiveNormalClassDistribution(dataset=train_set, class_value=1)"
      ],
      "execution_count": 13,
      "outputs": []
    },
    {
      "cell_type": "markdown",
      "metadata": {
        "id": "K8Td3GFTbt-G"
      },
      "source": [
        "Implement the **MAPClassifier** class and build a MAPClassifier object containing the 2 distribution objects you just made above."
      ]
    },
    {
      "cell_type": "code",
      "metadata": {
        "id": "mU-vuiFIbt-G"
      },
      "source": [
        "class MAPClassifier:\n",
        "    def __init__(self, ccd0, ccd1):\n",
        "        \"\"\"\n",
        "        A Maximum a posteriori classifier.\n",
        "        This class will hold 2 class distributions, one for class 0 and one for class 1, and will predict an instance\n",
        "        by the class that outputs the highest posterior probability for the given instance.\n",
        "\n",
        "        Input\n",
        "            - ccd0 : An object contating the relevant parameters and methods for the distribution of class 0.\n",
        "            - ccd1 : An object contating the relevant parameters and methods for the distribution of class 1.\n",
        "        \"\"\"\n",
        "\n",
        "        self.ccd0 = ccd0\n",
        "        self.ccd1 = ccd1\n",
        "\n",
        "    def predict(self, x: np.ndarray) -> np.ndarray:\n",
        "        \"\"\"\n",
        "        Predicts the instance class using the 2 distribution objects given in the object constructor.\n",
        "\n",
        "        Input\n",
        "            - An instance to predict.\n",
        "        Output\n",
        "            - 0 if the posterior probability of class 0 is higher and 1 otherwise.\n",
        "        \"\"\"\n",
        "\n",
        "        class_0_posterior = self.ccd0.get_instance_posterior(x=x)\n",
        "        class_1_posterior = self.ccd1.get_instance_posterior(x=x)\n",
        "\n",
        "        arr = np.ones_like(class_0_posterior)\n",
        "        arr[class_0_posterior > class_1_posterior] = 0\n",
        "\n",
        "        return arr"
      ],
      "execution_count": 14,
      "outputs": []
    },
    {
      "cell_type": "code",
      "metadata": {
        "id": "h74jJzXzbt-H"
      },
      "source": [
        "naive_normal_classifier = MAPClassifier(ccd0=naive_normal_CD_0, ccd1=naive_normal_CD_1)"
      ],
      "execution_count": 15,
      "outputs": []
    },
    {
      "cell_type": "markdown",
      "metadata": {
        "id": "EFGDhVXvbt-H"
      },
      "source": [
        "### Evaluate model\n",
        "Implement the **compute_accuracy** function in the next cell. Use it and the 2 distribution objects you created to compute the accuracy on the test set."
      ]
    },
    {
      "cell_type": "code",
      "metadata": {
        "id": "LAaBkkAwbt-H"
      },
      "source": [
        "def compute_accuracy(testset: np.ndarray, map_classifier):\n",
        "    \"\"\"\n",
        "    Compute the accuracy of a given a testset using a MAP classifier object.\n",
        "\n",
        "    Input\n",
        "        - testset: The testset for which to compute the accuracy (Numpy array).\n",
        "        - map_classifier : A MAPClassifier object capable of prediciting the class for each instance in the testset.\n",
        "\n",
        "    Ouput\n",
        "        - Accuracy = #Correctly Classified / #testset size\n",
        "    \"\"\"\n",
        "\n",
        "    preds = map_classifier.predict(x=testset[:, :-1])\n",
        "    return (np.where(preds == testset[:, -1])[0].shape[0] / testset.shape[0]) * 100"
      ],
      "execution_count": 16,
      "outputs": []
    },
    {
      "cell_type": "code",
      "metadata": {
        "id": "rsuEw7SLbt-H",
        "colab": {
          "base_uri": "https://localhost:8080/"
        },
        "outputId": "975b3210-56e9-4a55-9483-50756b9ddb96"
      },
      "source": [
        "# Compute the naive model accuracy and store it in the naive accuracy variable.\n",
        "naive_accuracy = compute_accuracy(testset=test_set, map_classifier=naive_normal_classifier)\n",
        "naive_accuracy"
      ],
      "execution_count": 17,
      "outputs": [
        {
          "output_type": "execute_result",
          "data": {
            "text/plain": [
              "49.5"
            ]
          },
          "metadata": {
            "tags": []
          },
          "execution_count": 17
        }
      ]
    },
    {
      "cell_type": "markdown",
      "metadata": {
        "id": "YVavpjwZbt-H"
      },
      "source": [
        "## Alice's Full Model\n",
        "\n",
        "Start with Implementing the [multivariate normal](https://en.wikipedia.org/wiki/Multivariate_normal_distribution) distribution probability density function in the next cell.\n",
        "\n",
        "## $$ (2\\pi)^{-\\frac{d}{2}} det(\\Sigma )^{-\\frac{1}{2}} \\cdot e ^{-\\frac{1}{2}(x-\\mu)^T \\Sigma ^ {-1} (x - \\mu) }$$\n",
        "\n",
        "Where : \n",
        "* $\\mu$ is the distribution mean vector. (length 2 in our case)\n",
        "* $\\Sigma$ Is the distribution covarince matrix. (size 2x2 in our case)"
      ]
    },
    {
      "cell_type": "markdown",
      "metadata": {
        "id": "PDB6iATObt-I"
      },
      "source": [
        "In the full bayes model we will not make any simplyfing assumptions, meaning, we will use a multivariate normal distribution. <br>\n",
        "And so, we'll need to compute the mean of each feature and to compute the covariance between the features to build the covariance matrix.\n",
        "Implement the **MultiNormalClassDistribution** and build a distribution object for each class."
      ]
    },
    {
      "cell_type": "code",
      "metadata": {
        "id": "O22udEk7bt-I"
      },
      "source": [
        "def multi_normal_pdf(x: np.ndarray, mean: np.ndarray, cov: np.ndarray) -> np.ndarray:\n",
        "    \"\"\"\n",
        "    Calculate multi variable normal desnity function for a given x, mean and covarince matrix.\n",
        "\n",
        "    Input:\n",
        "    - x: A value we want to compute the distribution for.\n",
        "    - mean: The mean value of the distribution.\n",
        "    - std:  The standard deviation of the distribution.\n",
        "\n",
        "    Returns the normal distribution pdf according to the given mean and var for the given x.\n",
        "    \"\"\"\n",
        "\n",
        "    def pdf(_x: np.ndarray) -> float:\n",
        "        x_m = _x - mean\n",
        "        a = np.power(2 * np.pi, -(mean.shape[0] / 2))\n",
        "        b = np.power(np.linalg.det(cov), -0.5)\n",
        "        c = np.exp(-0.5 * np.dot(np.dot(np.transpose(x_m), np.linalg.inv(cov)), x_m))\n",
        "\n",
        "        return a * b * c\n",
        "\n",
        "    return np.apply_along_axis(func1d=pdf, axis=1, arr=x)\n",
        "\n",
        "\n",
        "class MultiNormalClassDistribution:\n",
        "    def __init__(self, dataset: np.ndarray, class_value: int):\n",
        "        \"\"\"\n",
        "        A class which encapsulate the relevant parameters(mean, cov matrix) for a class conditinoal multi normal distribution.\n",
        "        The mean and cov matrix (You can use np.cov for this!) will be computed from a given data set.\n",
        "\n",
        "        Input\n",
        "        - dataset: The dataset as a numpy array\n",
        "        - class_value : The class to calculate the parameters for.\n",
        "        \"\"\"\n",
        "\n",
        "        self.dataset = dataset\n",
        "        self.class_value = class_value\n",
        "\n",
        "        self.dataset_by_class: np.ndarray = self.dataset[self.dataset[:, -1] == self.class_value]\n",
        "        self.means = self.dataset_by_class[:, :-1].mean(axis=0)\n",
        "        self.cov = np.cov(self.dataset_by_class[:, 0], self.dataset_by_class[:, 1])\n",
        "\n",
        "    def get_prior(self) -> float:\n",
        "        \"\"\"\n",
        "        Returns the prior porbability of the class according to the dataset distribution.\n",
        "        \"\"\"\n",
        "        return self.dataset_by_class.shape[0] / self.dataset.shape[0]\n",
        "\n",
        "    def get_instance_likelihood(self, x: np.ndarray) -> np.ndarray:\n",
        "        \"\"\"\n",
        "        Returns the likelihood of the instance under the class according to the dataset distribution.\n",
        "        \"\"\"\n",
        "        return multi_normal_pdf(x=x, mean=self.means, cov=self.cov)\n",
        "\n",
        "    def get_instance_posterior(self, x: np.ndarray) -> np.ndarray:\n",
        "        \"\"\"\n",
        "        Returns the posterior porbability of the instance under the class according to the dataset distribution.\n",
        "        * Ignoring p(x)\n",
        "        \"\"\"\n",
        "        return self.get_prior() * self.get_instance_likelihood(x=x)"
      ],
      "execution_count": 18,
      "outputs": []
    },
    {
      "cell_type": "code",
      "metadata": {
        "id": "A09QwS_ybt-I"
      },
      "source": [
        "# Build the a MultiNormalClassDistribution for each class.\n",
        "multi_normal_CD_0 = MultiNormalClassDistribution(dataset=train_set, class_value=0)\n",
        "multi_normal_CD_1 = MultiNormalClassDistribution(dataset=train_set, class_value=1)"
      ],
      "execution_count": 19,
      "outputs": []
    },
    {
      "cell_type": "markdown",
      "metadata": {
        "id": "8lp85J_gbt-I"
      },
      "source": [
        "build a MAPClassifier object contating the 2 distribution objects you just made above."
      ]
    },
    {
      "cell_type": "code",
      "metadata": {
        "id": "zFQaDxTVbt-J"
      },
      "source": [
        "multi_normal_classifier = MAPClassifier(ccd0=multi_normal_CD_0, ccd1=multi_normal_CD_1)"
      ],
      "execution_count": 20,
      "outputs": []
    },
    {
      "cell_type": "markdown",
      "metadata": {
        "id": "QMj68Omxbt-J"
      },
      "source": [
        "### Evaluate model\n",
        "Use the **compute_accuracy** function and the 2 distribution objects you created to compute the accuracy on the test set."
      ]
    },
    {
      "cell_type": "code",
      "metadata": {
        "id": "JSyi4Wphbt-J",
        "colab": {
          "base_uri": "https://localhost:8080/"
        },
        "outputId": "7686f718-61d0-42eb-e9d4-a39bf9552ba2"
      },
      "source": [
        "# Compute the naive model accuracy and store it in the naive accuracy variable.\n",
        "full_accuracy = compute_accuracy(test_set, multi_normal_classifier)\n",
        "full_accuracy"
      ],
      "execution_count": 21,
      "outputs": [
        {
          "output_type": "execute_result",
          "data": {
            "text/plain": [
              "79.75"
            ]
          },
          "metadata": {
            "tags": []
          },
          "execution_count": 21
        }
      ]
    },
    {
      "cell_type": "markdown",
      "metadata": {
        "id": "WxKU7Fo2bt-J"
      },
      "source": [
        "## Results"
      ]
    },
    {
      "cell_type": "markdown",
      "metadata": {
        "id": "duTMCg7fbt-J"
      },
      "source": [
        "Use a plot bar to showcase the models accuracy."
      ]
    },
    {
      "cell_type": "code",
      "metadata": {
        "id": "fTqWPRzrbt-J",
        "colab": {
          "base_uri": "https://localhost:8080/",
          "height": 516
        },
        "outputId": "98bffb05-01c3-4d00-ee5c-93d0fc45a785"
      },
      "source": [
        "# Bar plot of accuracy of each model side by side.\n",
        "plt.bar(x=['Naive', 'Full'], height=[naive_accuracy, full_accuracy])\n",
        "plt.title(\"Naive vs Full accuracy comparison\")\n",
        "plt.ylabel(\"Accuracy\")"
      ],
      "execution_count": 22,
      "outputs": [
        {
          "output_type": "execute_result",
          "data": {
            "text/plain": [
              "Text(0, 0.5, 'Accuracy')"
            ]
          },
          "metadata": {
            "tags": []
          },
          "execution_count": 22
        },
        {
          "output_type": "display_data",
          "data": {
            "image/png": "[encoded data removed]",
            "text/plain": [
              "<Figure size 864x576 with 1 Axes>"
            ]
          },
          "metadata": {
            "tags": [],
            "needs_background": "light"
          }
        }
      ]
    },
    {
      "cell_type": "markdown",
      "metadata": {
        "id": "f1H7o44Jbt-K"
      },
      "source": [
        "# Comparing Max a posteriori, prior, and likelihood results"
      ]
    },
    {
      "cell_type": "markdown",
      "metadata": {
        "id": "Lmap_-uybt-K"
      },
      "source": [
        "For each of the classifiers above (naive Bayes and full Bayes, in which we compare posterior probabilities), we explore how classifiers would perform if we compare (1) only prior probabilities or (2) only likelihoods. \n",
        "\n",
        "In this section, you will implement MaxPrior and MaxLikelihood classifiers similarly to MAPClassifier, and then graph the performance of the three models (MAP, MaxPrior, and MaxLikelihood) for each of the examples of above (naive Bayes and full Bayes).\n",
        "\n",
        "For example, your graph can have accuracy as the y-axis, \"MaxPrior\", \"MaxLikelihood\", and \"MAP\" as the x-axis values, and at each x-value, there will be two bars - one for the naive Bayes, and one for the full Bayes.  \n",
        "\n",
        "Other graphs (that make sense / are intuitive) will be accepted as well."
      ]
    },
    {
      "cell_type": "markdown",
      "metadata": {
        "id": "Oh4myNvcbt-K"
      },
      "source": [
        "Implement the **MaxPrior** class and build a MaxPrior object like you did above with the **MAPClassifier**."
      ]
    },
    {
      "cell_type": "code",
      "metadata": {
        "id": "8HX2AMa_bt-K"
      },
      "source": [
        "class MaxPrior:\n",
        "    def __init__(self, ccd0, ccd1):\n",
        "        \"\"\"\n",
        "        A Maximum prior classifier.\n",
        "        This class will hold 2 class distributions, one for class 0 and one for class 1, and will predicit an instance\n",
        "        by the class that outputs the highest prior probability for the given instance.\n",
        "\n",
        "        Input\n",
        "            - ccd0 : An object contating the relevant parameters and methods for the distribution of class 0.\n",
        "            - ccd1 : An object contating the relevant parameters and methods for the distribution of class 1.\n",
        "        \"\"\"\n",
        "\n",
        "        self.ccd0 = ccd0\n",
        "        self.ccd1 = ccd1\n",
        "\n",
        "    def predict(self, x) -> np.ndarray:\n",
        "        \"\"\"\n",
        "        Predicts the instance class using the 2 distribution objects given in the object constructor.\n",
        "\n",
        "        Input\n",
        "            - An instance to predict.\n",
        "        Output\n",
        "            - 0 if the posterior probability of class 0 is higher and 1 otherwise.\n",
        "        \"\"\"\n",
        "\n",
        "        class_0_posterior = self.ccd0.get_prior()\n",
        "        class_1_posterior = self.ccd1.get_prior()\n",
        "\n",
        "        arr = np.ones_like(class_0_posterior)\n",
        "        arr[class_0_posterior > class_1_posterior] = 0\n",
        "\n",
        "        return arr"
      ],
      "execution_count": 23,
      "outputs": []
    },
    {
      "cell_type": "markdown",
      "metadata": {
        "id": "Y4c1I3sobt-K"
      },
      "source": [
        "Implement the **MaxLikelihood** class and build a MaxLikelihood object like you did above with the **MAPClassifier**."
      ]
    },
    {
      "cell_type": "code",
      "metadata": {
        "id": "uN8O_TbXbt-K"
      },
      "source": [
        "class MaxLikelihood:\n",
        "    def __init__(self, ccd0, ccd1):\n",
        "        \"\"\"\n",
        "        A Maximum Likelihood classifier.\n",
        "        This class will hold 2 class distributions, one for class 0 and one for class 1, and will predicit an instance\n",
        "        by the class that outputs the highest likelihood probability for the given instance.\n",
        "\n",
        "        Input\n",
        "            - ccd0 : An object contating the relevant parameters and methods for the distribution of class 0.\n",
        "            - ccd1 : An object contating the relevant parameters and methods for the distribution of class 1.\n",
        "        \"\"\"\n",
        "\n",
        "        self.ccd0 = ccd0\n",
        "        self.ccd1 = ccd1\n",
        "\n",
        "    def predict(self, x: np.ndarray) -> np.ndarray:\n",
        "        \"\"\"\n",
        "        Predicts the instance class using the 2 distribution objects given in the object constructor.\n",
        "\n",
        "        Input\n",
        "            - An instance to predict.\n",
        "        Output\n",
        "            - 0 if the posterior probability of class 0 is higher and 1 otherwise.\n",
        "        \"\"\"\n",
        "\n",
        "        class_0_posterior = self.ccd0.get_instance_likelihood(x=x)\n",
        "        class_1_posterior = self.ccd1.get_instance_likelihood(x=x)\n",
        "\n",
        "        arr = np.ones_like(class_0_posterior)\n",
        "        arr[class_0_posterior > class_1_posterior] = 0\n",
        "\n",
        "        return arr"
      ],
      "execution_count": 24,
      "outputs": []
    },
    {
      "cell_type": "markdown",
      "metadata": {
        "id": "fquIkN77bt-K"
      },
      "source": [
        "### Run and evaluate the models"
      ]
    },
    {
      "cell_type": "markdown",
      "metadata": {
        "id": "XgTfp41lbt-L"
      },
      "source": [
        "Repeat the process you did for the MAPClassifier, now for the MaxPrior and MaxLikelihood classifiers:\n",
        "1. Feed the naive_normal distributions and the multi_normal distributions you made for each class into the new models you made in this section\n",
        "2. Evaluate the accuracies\n",
        "3. Plot the results as described in the beginning of this section"
      ]
    },
    {
      "cell_type": "code",
      "metadata": {
        "id": "uj7m91QKbt-L",
        "colab": {
          "base_uri": "https://localhost:8080/",
          "height": 555
        },
        "outputId": "147ab82e-398e-4add-d6d8-9d0b3157fcb0"
      },
      "source": [
        "naive_normal_classifier_max_prior = MaxPrior(ccd0=naive_normal_CD_0, ccd1=naive_normal_CD_1)\n",
        "multi_normal_classifier_max_prior = MaxPrior(ccd0=multi_normal_CD_0, ccd1=multi_normal_CD_1)\n",
        "\n",
        "naive_normal_classifier_max_likelihood = MaxLikelihood(ccd0=naive_normal_CD_0, ccd1=naive_normal_CD_1)\n",
        "multi_normal_classifier_max_likelihood = MaxLikelihood(ccd0=multi_normal_CD_0, ccd1=multi_normal_CD_1)\n",
        "\n",
        "heights_naive = [compute_accuracy(testset=test_set, map_classifier=naive_normal_classifier_max_prior),\n",
        "                 compute_accuracy(testset=test_set, map_classifier=naive_normal_classifier_max_likelihood),\n",
        "                 compute_accuracy(testset=test_set, map_classifier=naive_normal_classifier)]\n",
        "\n",
        "height_full = [compute_accuracy(testset=test_set, map_classifier=multi_normal_classifier_max_prior),\n",
        "               compute_accuracy(testset=test_set, map_classifier=multi_normal_classifier_max_likelihood),\n",
        "               compute_accuracy(testset=test_set, map_classifier=multi_normal_classifier)\n",
        "               ]\n",
        "\n",
        "n = len(heights_naive) * 2\n",
        "plt.bar(x=range(0, n, 2), height=heights_naive, label='Naive')\n",
        "plt.bar(x=range(1, n, 2), height=height_full, label='Full')\n",
        "\n",
        "plt.title('Prior vs. Likelihood vs. Posterior', fontsize=22, color='salmon')\n",
        "plt.xticks(range(n), [\"Prior\", \"Prior\", \"Likelihood\", \"Likelihood\", \"Posterior\", \"Posterior\"], rotation=45, fontsize=14)\n",
        "plt.ylabel(\"Accuracy\", fontsize=14)\n",
        "\n",
        "plt.legend(prop={'size': 12})\n",
        "plt.show()"
      ],
      "execution_count": 25,
      "outputs": [
        {
          "output_type": "display_data",
          "data": {
            "image/png": "[encoded data removed]",
            "text/plain": [
              "<Figure size 864x576 with 1 Axes>"
            ]
          },
          "metadata": {
            "tags": [],
            "needs_background": "light"
          }
        }
      ]
    },
    {
      "cell_type": "markdown",
      "metadata": {
        "id": "TnxVKlEJbt-L"
      },
      "source": [
        "# Discrete Naive Bayes Classifier "
      ]
    },
    {
      "cell_type": "markdown",
      "metadata": {
        "id": "JYTwHtxfbt-L"
      },
      "source": [
        "We will now build a discrete naive Bayes based classifier using **Laplace** smoothing.\n",
        "In the recitation, we saw how to compute the probability for each attribute value under each class:"
      ]
    },
    {
      "cell_type": "markdown",
      "metadata": {
        "id": "7F4cgYzLbt-L"
      },
      "source": [
        "$$ P(x_j | A_i) = \\frac{n_{ij} + 1}{n_i + |V_j|} $$\n",
        "Where:\n",
        "* $n_{ij}$ The number of training instances with the class $A_i$ and the value $x_j$ in the relevant attribute.\n",
        "* $n_i$ The number of training instances with the class $A_i$\n",
        "* $|V_j|$ The number of possible values of the relevant attribute.\n",
        "\n",
        "In order to compute the likelihood we assume:\n",
        "$$ P(x| A_i) = \\prod\\limits_{j=1}^{n}P(x_j|A_i) $$\n",
        "\n",
        "And to classify an instance we will choose : \n",
        "$$\\arg\\!\\max\\limits_{i} P(A_i) \\cdot P(x | A_i)$$\n"
      ]
    },
    {
      "cell_type": "markdown",
      "metadata": {
        "id": "4P9Mpv6Jbt-L"
      },
      "source": [
        "## Data\n",
        "We will try to predict breast cancer again only this time from a different dataset, \n",
        "<br> you can read about the dataset here : [Breast Cancer Dataset](https://archive.ics.uci.edu/ml/datasets/breast+cancer)<br>\n",
        "Load the training set and test set provided for you in the data folder.\n",
        " - breast_trainset.csv\n",
        " - breast_testset.csv\n",
        " "
      ]
    },
    {
      "cell_type": "code",
      "metadata": {
        "id": "2EBh-u4Pbt-L"
      },
      "source": [
        "# Load the train and test set into a pandas dataframe and convert them into a numpy array.\n",
        "train_set = pd.read_csv('data/breast_trainset.csv').values\n",
        "test_set = pd.read_csv('data/breast_testset.csv').values"
      ],
      "execution_count": 26,
      "outputs": []
    },
    {
      "cell_type": "markdown",
      "metadata": {
        "id": "8tvzvUGgbt-M"
      },
      "source": [
        "## Build A Discrete Naive Bayes Distribution for each class\n",
        "Implement the **DiscreteNBClassDistribution** in the next cell and build a distribution object for each class."
      ]
    },
    {
      "cell_type": "code",
      "metadata": {
        "id": "cY_SBD-Jbt-M"
      },
      "source": [
        "EPSILLON = 1e-6 # if a certain value only occurs in the test set, the probability for that value will be EPSILLON.\n",
        "\n",
        "class DiscreteNBClassDistribution:\n",
        "    def __init__(self, dataset: np.ndarray, class_value: int):\n",
        "        \"\"\"\n",
        "        A class which computes and encapsulate the relevant probabilites for a discrete naive bayes\n",
        "        distribution for a specific class. The probabilites are computed with laplace smoothing.\n",
        "\n",
        "        Input\n",
        "        - dataset: The dataset as a numpy array.\n",
        "        - class_value: Compute the relevant parameters only for instances from the given class.\n",
        "        \"\"\"\n",
        "\n",
        "        self.dataset = dataset\n",
        "        self.class_value = class_value\n",
        "        self.dataset_by_class: np.ndarray = self.dataset[self.dataset[:, -1] == self.class_value]\n",
        "\n",
        "        self.attributes_possible_count_values = {}\n",
        "        for col in range(self.dataset.shape[1] - 1):\n",
        "            counts = np.unique(self.dataset_by_class[:, col], return_counts=True)\n",
        "\n",
        "            d = {}\n",
        "            for i in range(counts[0].shape[0]):\n",
        "                d.update({\n",
        "                    counts[0][i]: counts[1][i]\n",
        "                })\n",
        "\n",
        "            self.attributes_possible_count_values.update({col: {\n",
        "                'attributes': counts[0].shape[0],\n",
        "                'counts': d\n",
        "            }})\n",
        "\n",
        "    def get_prior(self) -> float:\n",
        "        \"\"\"\n",
        "        Returns the prior porbability of the class according to the dataset distribution.\n",
        "        \"\"\"\n",
        "        return self.dataset_by_class.shape[0] / self.dataset.shape[0]\n",
        "\n",
        "    def get_instance_likelihood(self, x: np.ndarray) -> np.ndarray:\n",
        "        \"\"\"\n",
        "        Returns the likelihood of the instance under the class according to the dataset distribution.\n",
        "        \"\"\"\n",
        "\n",
        "        liklehoods = []\n",
        "        for row in range(x.shape[0]):\n",
        "            _list = []\n",
        "            for col in range(self.dataset_by_class.shape[1] - 1):\n",
        "                n_ij = self.attributes_possible_count_values.get(col).get('counts').get(x[row, col], EPSILLON)\n",
        "                v_j = self.attributes_possible_count_values[col]['attributes']\n",
        "                _list.append((n_ij + 1) / (self.dataset_by_class.shape[0] + v_j))\n",
        "            liklehoods.append(np.prod(_list))\n",
        "\n",
        "        return np.array(liklehoods)\n",
        "\n",
        "    def get_instance_posterior(self, x: np.ndarray) -> np.ndarray:\n",
        "        \"\"\"\n",
        "        Returns the posterior porbability of the instance under the class according to the dataset distribution.\n",
        "        * Ignoring p(x)\n",
        "        \"\"\"\n",
        "        return self.get_prior() * self.get_instance_likelihood(x=x)"
      ],
      "execution_count": 27,
      "outputs": []
    },
    {
      "cell_type": "code",
      "metadata": {
        "id": "Tt1tDUN7bt-M"
      },
      "source": [
        "discrete_naive_CD_0 = DiscreteNBClassDistribution(dataset=train_set, class_value=0)\n",
        "discrete_naive_CD_1 = DiscreteNBClassDistribution(dataset=train_set, class_value=1)"
      ],
      "execution_count": 28,
      "outputs": []
    },
    {
      "cell_type": "markdown",
      "metadata": {
        "id": "QeyqBArMbt-M"
      },
      "source": [
        "build a MAPClassifier object contating the 2 distribution objects you just made above."
      ]
    },
    {
      "cell_type": "code",
      "metadata": {
        "id": "MMivL4bebt-M"
      },
      "source": [
        "discrete_naive_classifier = MAPClassifier(ccd0=discrete_naive_CD_0, ccd1=discrete_naive_CD_1)"
      ],
      "execution_count": 29,
      "outputs": []
    },
    {
      "cell_type": "markdown",
      "metadata": {
        "id": "FXSvVobXbt-M"
      },
      "source": [
        "Use the **compute_accuracy** function and the 2 distribution objects you created to compute the accuracy on the test set."
      ]
    },
    {
      "cell_type": "code",
      "metadata": {
        "id": "Irqjyuu9bt-M",
        "colab": {
          "base_uri": "https://localhost:8080/"
        },
        "outputId": "a9f2de2e-211d-44f1-d45e-38028baca4b7"
      },
      "source": [
        "round(compute_accuracy(testset=test_set, map_classifier=discrete_naive_classifier), 3)"
      ],
      "execution_count": 30,
      "outputs": [
        {
          "output_type": "execute_result",
          "data": {
            "text/plain": [
              "73.684"
            ]
          },
          "metadata": {
            "tags": []
          },
          "execution_count": 30
        }
      ]
    }
  ]
}