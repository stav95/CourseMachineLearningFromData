{
  "nbformat": 4,
  "nbformat_minor": 0,
  "metadata": {
    "celltoolbar": "Create Assignment",
    "kernelspec": {
      "display_name": "Python 3",
      "language": "python",
      "name": "python3"
    },
    "language_info": {
      "codemirror_mode": {
        "name": "ipython",
        "version": 3
      },
      "file_extension": ".py",
      "mimetype": "text/x-python",
      "name": "python",
      "nbconvert_exporter": "python",
      "pygments_lexer": "ipython3",
      "version": "3.7.3"
    },
    "colab": {
      "name": "313581654_316298876.ipynb",
      "provenance": [],
      "collapsed_sections": [],
      "toc_visible": true
    }
  },
  "cells": [
    {
      "cell_type": "markdown",
      "metadata": {
        "nbgrader": {
          "grade": false,
          "grade_id": "cell-35def0d0f4b47a0a",
          "locked": true,
          "schema_version": 1,
          "solution": false
        },
        "id": "jwrEk2Y6ERIU"
      },
      "source": [
        "# Exercise 1: Linear Regression\n",
        "\n",
        "### This notebook is executed automatically. Failing to meet any of the submission requirements will results in a 25 point fine or your submission not being graded at all. Kindly reminder: the homework assignments grade is 50% of the final grade. \n",
        "\n",
        "### Do not start the exercise until you fully understand the submission guidelines.\n",
        "\n",
        "## Read the following instructions carefully:\n",
        "\n",
        "1. This jupyter notebook contains all the step by step instructions needed for this exercise.\n",
        "1. Submission includes this notebook only with the exercise number and your ID as the filename. For example: `hw1_123456789_987654321.ipynb` if you submitted in pairs and `hw1_123456789.ipynb` if you submitted the exercise alone.\n",
        "1. Write **efficient vectorized** code whenever possible. Some calculations in this exercise take several minutes when implemented efficiently, and might take much longer otherwise. Unnecessary loops will result in point deduction.\n",
        "1. You are responsible for the correctness of your code and should add as many tests as you see fit. Tests will not be graded nor checked.\n",
        "1. Write your functions in this notebook only. **Do not create Python modules and import them**.\n",
        "1. You are allowed to use functions and methods from the [Python Standard Library](https://docs.python.org/3/library/) and [numpy](https://www.numpy.org/devdocs/reference/) only. **Do not import anything else.**\n",
        "1. Your code must run without errors. Make sure your `numpy` version is at least 1.15.4 and that you are using at least python 3.6. Changes of the configuration we provided are at your own risk. Any code that cannot run will not be graded.\n",
        "1. Write your own code. Cheating will not be tolerated.\n",
        "1. Answers to qualitative questions should be written in **markdown** cells (with $\\LaTeX$ support). Answers that will be written in commented code blocks will not be checked.\n",
        "\n",
        "## In this exercise you will perform the following:\n",
        "1. Load a dataset and perform basic data exploration using a powerful data science library called [pandas](https://pandas.pydata.org/pandas-docs/stable/).\n",
        "1. Preprocess the data for linear regression.\n",
        "1. Compute the cost and perform gradient descent in pure numpy in vectorized form.\n",
        "1. Fit a linear regression model using a single feature.\n",
        "1. Visualize your results using matplotlib.\n",
        "1. Perform multivariate linear regression.\n",
        "1. Pick the best features in the dataset.\n",
        "1. Experiment with adaptive learning rates."
      ]
    },
    {
      "cell_type": "markdown",
      "metadata": {
        "id": "-bhmlVILERIY"
      },
      "source": [
        "# I have read and understood the instructions:  ***313581654_316298876 ***"
      ]
    },
    {
      "cell_type": "code",
      "metadata": {
        "nbgrader": {
          "grade": false,
          "grade_id": "cell-5ed0076cec86f623",
          "locked": true,
          "schema_version": 1,
          "solution": false
        },
        "id": "qrki3w4tERIZ"
      },
      "source": [
        "import numpy as np # used for scientific computing\n",
        "import pandas as pd # used for data analysis and manipulation\n",
        "import matplotlib.pyplot as plt # used for visualization and plotting\n",
        "\n",
        "\n",
        "np.random.seed(42) \n",
        "\n",
        "# make matplotlib figures appear inline in the notebook\n",
        "%matplotlib inline\n",
        "plt.rcParams['figure.figsize'] = (14.0, 8.0) # set default size of plots\n",
        "plt.rcParams['image.interpolation'] = 'nearest'\n",
        "plt.rcParams['image.cmap'] = 'gray'"
      ],
      "execution_count": 54,
      "outputs": []
    },
    {
      "cell_type": "markdown",
      "metadata": {
        "nbgrader": {
          "grade": false,
          "grade_id": "cell-916f46de8cde2ca7",
          "locked": true,
          "schema_version": 1,
          "solution": false
        },
        "id": "R8BhfJZ_ERIZ"
      },
      "source": [
        "## Part 1: Data Preprocessing (10 Points)\n",
        "\n",
        "For the following exercise, we will use a dataset containing housing prices in King County, USA. The dataset contains 5,000 observations with 18 features and a single target value - the house price. \n",
        "\n",
        "First, we will read and explore the data using pandas and the `.read_csv` method. Pandas is an open source library providing high-performance, easy-to-use data structures and data analysis tools for the Python programming language."
      ]
    },
    {
      "cell_type": "code",
      "metadata": {
        "nbgrader": {
          "grade": false,
          "grade_id": "cell-9ef8b2769c2c1949",
          "locked": true,
          "schema_version": 1,
          "solution": false
        },
        "id": "5wiupPt2ERIZ"
      },
      "source": [
        "# Read comma separated data\n",
        "df = pd.read_csv('data.csv') # Make sure this cell runs regardless of your absolute path.\n",
        "# df stands for dataframe, which is the default format for datasets in pandas"
      ],
      "execution_count": 55,
      "outputs": []
    },
    {
      "cell_type": "markdown",
      "metadata": {
        "nbgrader": {
          "grade": false,
          "grade_id": "cell-6966afc155aa6616",
          "locked": true,
          "schema_version": 1,
          "solution": false
        },
        "id": "wdDNCHibERIa"
      },
      "source": [
        "### Data Exploration\n",
        "A good practice in any data-oriented project is to first try and understand the data. Fortunately, pandas is built for that purpose. Start by looking at the top of the dataset using the `df.head()` command. This will be the first indication that you read your data properly, and that the headers are correct. Next, you can use `df.describe()` to show statistics on the data and check for trends and irregularities."
      ]
    },
    {
      "cell_type": "code",
      "metadata": {
        "colab": {
          "base_uri": "https://localhost:8080/",
          "height": 224
        },
        "id": "s-7LwzJSERIa",
        "outputId": "dd71c5df-ac78-42d8-cea2-691da2fe6bd2"
      },
      "source": [
        "df.head(5)"
      ],
      "execution_count": 56,
      "outputs": [
        {
          "output_type": "execute_result",
          "data": {
            "text/html": [
              "<div>\n",
              "<style scoped>\n",
              "    .dataframe tbody tr th:only-of-type {\n",
              "        vertical-align: middle;\n",
              "    }\n",
              "\n",
              "    .dataframe tbody tr th {\n",
              "        vertical-align: top;\n",
              "    }\n",
              "\n",
              "    .dataframe thead th {\n",
              "        text-align: right;\n",
              "    }\n",
              "</style>\n",
              "<table border=\"1\" class=\"dataframe\">\n",
              "  <thead>\n",
              "    <tr style=\"text-align: right;\">\n",
              "      <th></th>\n",
              "      <th>id</th>\n",
              "      <th>date</th>\n",
              "      <th>price</th>\n",
              "      <th>bedrooms</th>\n",
              "      <th>bathrooms</th>\n",
              "      <th>sqft_living</th>\n",
              "      <th>sqft_lot</th>\n",
              "      <th>floors</th>\n",
              "      <th>waterfront</th>\n",
              "      <th>view</th>\n",
              "      <th>condition</th>\n",
              "      <th>grade</th>\n",
              "      <th>sqft_above</th>\n",
              "      <th>yr_built</th>\n",
              "      <th>yr_renovated</th>\n",
              "      <th>zipcode</th>\n",
              "      <th>lat</th>\n",
              "      <th>long</th>\n",
              "      <th>sqft_living15</th>\n",
              "      <th>sqft_lot15</th>\n",
              "    </tr>\n",
              "  </thead>\n",
              "  <tbody>\n",
              "    <tr>\n",
              "      <th>0</th>\n",
              "      <td>7129300520</td>\n",
              "      <td>20141013T000000</td>\n",
              "      <td>221900.0</td>\n",
              "      <td>3</td>\n",
              "      <td>1.00</td>\n",
              "      <td>1180</td>\n",
              "      <td>5650</td>\n",
              "      <td>1.0</td>\n",
              "      <td>0</td>\n",
              "      <td>0</td>\n",
              "      <td>3</td>\n",
              "      <td>7</td>\n",
              "      <td>1180</td>\n",
              "      <td>1955</td>\n",
              "      <td>0</td>\n",
              "      <td>98178</td>\n",
              "      <td>47.5112</td>\n",
              "      <td>-122.257</td>\n",
              "      <td>1340</td>\n",
              "      <td>5650</td>\n",
              "    </tr>\n",
              "    <tr>\n",
              "      <th>1</th>\n",
              "      <td>6414100192</td>\n",
              "      <td>20141209T000000</td>\n",
              "      <td>538000.0</td>\n",
              "      <td>3</td>\n",
              "      <td>2.25</td>\n",
              "      <td>2570</td>\n",
              "      <td>7242</td>\n",
              "      <td>2.0</td>\n",
              "      <td>0</td>\n",
              "      <td>0</td>\n",
              "      <td>3</td>\n",
              "      <td>7</td>\n",
              "      <td>2170</td>\n",
              "      <td>1951</td>\n",
              "      <td>1991</td>\n",
              "      <td>98125</td>\n",
              "      <td>47.7210</td>\n",
              "      <td>-122.319</td>\n",
              "      <td>1690</td>\n",
              "      <td>7639</td>\n",
              "    </tr>\n",
              "    <tr>\n",
              "      <th>2</th>\n",
              "      <td>5631500400</td>\n",
              "      <td>20150225T000000</td>\n",
              "      <td>180000.0</td>\n",
              "      <td>2</td>\n",
              "      <td>1.00</td>\n",
              "      <td>770</td>\n",
              "      <td>10000</td>\n",
              "      <td>1.0</td>\n",
              "      <td>0</td>\n",
              "      <td>0</td>\n",
              "      <td>3</td>\n",
              "      <td>6</td>\n",
              "      <td>770</td>\n",
              "      <td>1933</td>\n",
              "      <td>0</td>\n",
              "      <td>98028</td>\n",
              "      <td>47.7379</td>\n",
              "      <td>-122.233</td>\n",
              "      <td>2720</td>\n",
              "      <td>8062</td>\n",
              "    </tr>\n",
              "    <tr>\n",
              "      <th>3</th>\n",
              "      <td>2487200875</td>\n",
              "      <td>20141209T000000</td>\n",
              "      <td>604000.0</td>\n",
              "      <td>4</td>\n",
              "      <td>3.00</td>\n",
              "      <td>1960</td>\n",
              "      <td>5000</td>\n",
              "      <td>1.0</td>\n",
              "      <td>0</td>\n",
              "      <td>0</td>\n",
              "      <td>5</td>\n",
              "      <td>7</td>\n",
              "      <td>1050</td>\n",
              "      <td>1965</td>\n",
              "      <td>0</td>\n",
              "      <td>98136</td>\n",
              "      <td>47.5208</td>\n",
              "      <td>-122.393</td>\n",
              "      <td>1360</td>\n",
              "      <td>5000</td>\n",
              "    </tr>\n",
              "    <tr>\n",
              "      <th>4</th>\n",
              "      <td>1954400510</td>\n",
              "      <td>20150218T000000</td>\n",
              "      <td>510000.0</td>\n",
              "      <td>3</td>\n",
              "      <td>2.00</td>\n",
              "      <td>1680</td>\n",
              "      <td>8080</td>\n",
              "      <td>1.0</td>\n",
              "      <td>0</td>\n",
              "      <td>0</td>\n",
              "      <td>3</td>\n",
              "      <td>8</td>\n",
              "      <td>1680</td>\n",
              "      <td>1987</td>\n",
              "      <td>0</td>\n",
              "      <td>98074</td>\n",
              "      <td>47.6168</td>\n",
              "      <td>-122.045</td>\n",
              "      <td>1800</td>\n",
              "      <td>7503</td>\n",
              "    </tr>\n",
              "  </tbody>\n",
              "</table>\n",
              "</div>"
            ],
            "text/plain": [
              "           id             date     price  ...     long  sqft_living15  sqft_lot15\n",
              "0  7129300520  20141013T000000  221900.0  ... -122.257           1340        5650\n",
              "1  6414100192  20141209T000000  538000.0  ... -122.319           1690        7639\n",
              "2  5631500400  20150225T000000  180000.0  ... -122.233           2720        8062\n",
              "3  2487200875  20141209T000000  604000.0  ... -122.393           1360        5000\n",
              "4  1954400510  20150218T000000  510000.0  ... -122.045           1800        7503\n",
              "\n",
              "[5 rows x 20 columns]"
            ]
          },
          "metadata": {
            "tags": []
          },
          "execution_count": 56
        }
      ]
    },
    {
      "cell_type": "code",
      "metadata": {
        "nbgrader": {
          "grade": true,
          "grade_id": "cell-5bd0d6844b64ea1a",
          "locked": false,
          "points": 1,
          "schema_version": 1,
          "solution": true
        },
        "colab": {
          "base_uri": "https://localhost:8080/",
          "height": 317
        },
        "id": "GrXTojPSERIa",
        "outputId": "9b6611e5-c362-4a20-d0ad-7f3ec2befad6"
      },
      "source": [
        "df.describe()"
      ],
      "execution_count": 57,
      "outputs": [
        {
          "output_type": "execute_result",
          "data": {
            "text/html": [
              "<div>\n",
              "<style scoped>\n",
              "    .dataframe tbody tr th:only-of-type {\n",
              "        vertical-align: middle;\n",
              "    }\n",
              "\n",
              "    .dataframe tbody tr th {\n",
              "        vertical-align: top;\n",
              "    }\n",
              "\n",
              "    .dataframe thead th {\n",
              "        text-align: right;\n",
              "    }\n",
              "</style>\n",
              "<table border=\"1\" class=\"dataframe\">\n",
              "  <thead>\n",
              "    <tr style=\"text-align: right;\">\n",
              "      <th></th>\n",
              "      <th>id</th>\n",
              "      <th>price</th>\n",
              "      <th>bedrooms</th>\n",
              "      <th>bathrooms</th>\n",
              "      <th>sqft_living</th>\n",
              "      <th>sqft_lot</th>\n",
              "      <th>floors</th>\n",
              "      <th>waterfront</th>\n",
              "      <th>view</th>\n",
              "      <th>condition</th>\n",
              "      <th>grade</th>\n",
              "      <th>sqft_above</th>\n",
              "      <th>yr_built</th>\n",
              "      <th>yr_renovated</th>\n",
              "      <th>zipcode</th>\n",
              "      <th>lat</th>\n",
              "      <th>long</th>\n",
              "      <th>sqft_living15</th>\n",
              "      <th>sqft_lot15</th>\n",
              "    </tr>\n",
              "  </thead>\n",
              "  <tbody>\n",
              "    <tr>\n",
              "      <th>count</th>\n",
              "      <td>5.000000e+03</td>\n",
              "      <td>5.000000e+03</td>\n",
              "      <td>5000.0000</td>\n",
              "      <td>5000.000000</td>\n",
              "      <td>5000.000000</td>\n",
              "      <td>5.000000e+03</td>\n",
              "      <td>5000.000000</td>\n",
              "      <td>5000.000000</td>\n",
              "      <td>5000.000000</td>\n",
              "      <td>5000.000000</td>\n",
              "      <td>5000.000000</td>\n",
              "      <td>5000.000000</td>\n",
              "      <td>5000.000000</td>\n",
              "      <td>5000.000000</td>\n",
              "      <td>5000.000000</td>\n",
              "      <td>5000.000000</td>\n",
              "      <td>5000.000000</td>\n",
              "      <td>5000.00000</td>\n",
              "      <td>5000.000000</td>\n",
              "    </tr>\n",
              "    <tr>\n",
              "      <th>mean</th>\n",
              "      <td>4.630823e+09</td>\n",
              "      <td>5.394699e+05</td>\n",
              "      <td>3.3714</td>\n",
              "      <td>2.062150</td>\n",
              "      <td>2061.036800</td>\n",
              "      <td>1.615893e+04</td>\n",
              "      <td>1.432600</td>\n",
              "      <td>0.009400</td>\n",
              "      <td>0.243000</td>\n",
              "      <td>3.455000</td>\n",
              "      <td>7.595200</td>\n",
              "      <td>1753.151000</td>\n",
              "      <td>1966.660800</td>\n",
              "      <td>95.052800</td>\n",
              "      <td>98078.812600</td>\n",
              "      <td>47.559312</td>\n",
              "      <td>-122.215864</td>\n",
              "      <td>1976.84520</td>\n",
              "      <td>13451.164600</td>\n",
              "    </tr>\n",
              "    <tr>\n",
              "      <th>std</th>\n",
              "      <td>2.870890e+09</td>\n",
              "      <td>3.873115e+05</td>\n",
              "      <td>0.9104</td>\n",
              "      <td>0.773592</td>\n",
              "      <td>923.727509</td>\n",
              "      <td>4.600220e+04</td>\n",
              "      <td>0.510793</td>\n",
              "      <td>0.096506</td>\n",
              "      <td>0.774643</td>\n",
              "      <td>0.677692</td>\n",
              "      <td>1.166537</td>\n",
              "      <td>818.390844</td>\n",
              "      <td>28.286855</td>\n",
              "      <td>425.234932</td>\n",
              "      <td>54.126332</td>\n",
              "      <td>0.139521</td>\n",
              "      <td>0.141807</td>\n",
              "      <td>674.73601</td>\n",
              "      <td>26514.749009</td>\n",
              "    </tr>\n",
              "    <tr>\n",
              "      <th>min</th>\n",
              "      <td>1.000102e+06</td>\n",
              "      <td>7.500000e+04</td>\n",
              "      <td>0.0000</td>\n",
              "      <td>0.000000</td>\n",
              "      <td>380.000000</td>\n",
              "      <td>6.090000e+02</td>\n",
              "      <td>1.000000</td>\n",
              "      <td>0.000000</td>\n",
              "      <td>0.000000</td>\n",
              "      <td>1.000000</td>\n",
              "      <td>3.000000</td>\n",
              "      <td>380.000000</td>\n",
              "      <td>1900.000000</td>\n",
              "      <td>0.000000</td>\n",
              "      <td>98001.000000</td>\n",
              "      <td>47.155900</td>\n",
              "      <td>-122.514000</td>\n",
              "      <td>620.00000</td>\n",
              "      <td>660.000000</td>\n",
              "    </tr>\n",
              "    <tr>\n",
              "      <th>25%</th>\n",
              "      <td>2.154075e+09</td>\n",
              "      <td>3.179062e+05</td>\n",
              "      <td>3.0000</td>\n",
              "      <td>1.500000</td>\n",
              "      <td>1410.000000</td>\n",
              "      <td>5.400000e+03</td>\n",
              "      <td>1.000000</td>\n",
              "      <td>0.000000</td>\n",
              "      <td>0.000000</td>\n",
              "      <td>3.000000</td>\n",
              "      <td>7.000000</td>\n",
              "      <td>1190.000000</td>\n",
              "      <td>1949.000000</td>\n",
              "      <td>0.000000</td>\n",
              "      <td>98033.000000</td>\n",
              "      <td>47.463675</td>\n",
              "      <td>-122.329000</td>\n",
              "      <td>1490.00000</td>\n",
              "      <td>5391.500000</td>\n",
              "    </tr>\n",
              "    <tr>\n",
              "      <th>50%</th>\n",
              "      <td>4.022900e+09</td>\n",
              "      <td>4.490000e+05</td>\n",
              "      <td>3.0000</td>\n",
              "      <td>2.000000</td>\n",
              "      <td>1890.000000</td>\n",
              "      <td>7.875000e+03</td>\n",
              "      <td>1.000000</td>\n",
              "      <td>0.000000</td>\n",
              "      <td>0.000000</td>\n",
              "      <td>3.000000</td>\n",
              "      <td>7.000000</td>\n",
              "      <td>1530.000000</td>\n",
              "      <td>1968.000000</td>\n",
              "      <td>0.000000</td>\n",
              "      <td>98070.000000</td>\n",
              "      <td>47.572850</td>\n",
              "      <td>-122.235000</td>\n",
              "      <td>1820.00000</td>\n",
              "      <td>7800.000000</td>\n",
              "    </tr>\n",
              "    <tr>\n",
              "      <th>75%</th>\n",
              "      <td>7.345078e+09</td>\n",
              "      <td>6.500000e+05</td>\n",
              "      <td>4.0000</td>\n",
              "      <td>2.500000</td>\n",
              "      <td>2500.000000</td>\n",
              "      <td>1.123400e+04</td>\n",
              "      <td>2.000000</td>\n",
              "      <td>0.000000</td>\n",
              "      <td>0.000000</td>\n",
              "      <td>4.000000</td>\n",
              "      <td>8.000000</td>\n",
              "      <td>2130.000000</td>\n",
              "      <td>1990.000000</td>\n",
              "      <td>0.000000</td>\n",
              "      <td>98118.000000</td>\n",
              "      <td>47.679200</td>\n",
              "      <td>-122.129000</td>\n",
              "      <td>2340.00000</td>\n",
              "      <td>10469.250000</td>\n",
              "    </tr>\n",
              "    <tr>\n",
              "      <th>max</th>\n",
              "      <td>9.842300e+09</td>\n",
              "      <td>7.060000e+06</td>\n",
              "      <td>9.0000</td>\n",
              "      <td>6.750000</td>\n",
              "      <td>10040.000000</td>\n",
              "      <td>1.651359e+06</td>\n",
              "      <td>3.500000</td>\n",
              "      <td>1.000000</td>\n",
              "      <td>4.000000</td>\n",
              "      <td>5.000000</td>\n",
              "      <td>13.000000</td>\n",
              "      <td>7680.000000</td>\n",
              "      <td>2015.000000</td>\n",
              "      <td>2015.000000</td>\n",
              "      <td>98199.000000</td>\n",
              "      <td>47.777600</td>\n",
              "      <td>-121.315000</td>\n",
              "      <td>5790.00000</td>\n",
              "      <td>434728.000000</td>\n",
              "    </tr>\n",
              "  </tbody>\n",
              "</table>\n",
              "</div>"
            ],
            "text/plain": [
              "                 id         price  ...  sqft_living15     sqft_lot15\n",
              "count  5.000000e+03  5.000000e+03  ...     5000.00000    5000.000000\n",
              "mean   4.630823e+09  5.394699e+05  ...     1976.84520   13451.164600\n",
              "std    2.870890e+09  3.873115e+05  ...      674.73601   26514.749009\n",
              "min    1.000102e+06  7.500000e+04  ...      620.00000     660.000000\n",
              "25%    2.154075e+09  3.179062e+05  ...     1490.00000    5391.500000\n",
              "50%    4.022900e+09  4.490000e+05  ...     1820.00000    7800.000000\n",
              "75%    7.345078e+09  6.500000e+05  ...     2340.00000   10469.250000\n",
              "max    9.842300e+09  7.060000e+06  ...     5790.00000  434728.000000\n",
              "\n",
              "[8 rows x 19 columns]"
            ]
          },
          "metadata": {
            "tags": []
          },
          "execution_count": 57
        }
      ]
    },
    {
      "cell_type": "markdown",
      "metadata": {
        "nbgrader": {
          "grade": false,
          "grade_id": "cell-9b9bd1b387905904",
          "locked": true,
          "schema_version": 1,
          "solution": false
        },
        "id": "di0s4HqKERIa"
      },
      "source": [
        "We will start with one variable linear regression by extracting the target column and the `sqft_living` variable from the dataset. We use pandas and select both columns as separate variables and transform them into a numpy array."
      ]
    },
    {
      "cell_type": "code",
      "metadata": {
        "nbgrader": {
          "grade": true,
          "grade_id": "cell-c7cd243e8b5fe5aa",
          "locked": false,
          "points": 1,
          "schema_version": 1,
          "solution": true
        },
        "id": "q_6eTspKERIb"
      },
      "source": [
        "X = df['sqft_living'].values\n",
        "y = df['price'].values"
      ],
      "execution_count": 58,
      "outputs": []
    },
    {
      "cell_type": "markdown",
      "metadata": {
        "nbgrader": {
          "grade": false,
          "grade_id": "cell-508e7e1a13f9bbe4",
          "locked": true,
          "schema_version": 1,
          "solution": false
        },
        "id": "MJwWJYwJERIb"
      },
      "source": [
        "## Preprocessing\n",
        "\n",
        "As the number of features grows, calculating gradients gets computationally expensive. We can speed this up by normalizing the input data to ensure all values are within the same range. This is especially important for datasets with high standard deviations or differences in the ranges of the attributes. Use [mean normalization](https://en.wikipedia.org/wiki/Feature_scaling) for the fearures (`X`) and the true labels (`y`).\n",
        "\n",
        "Implement the cost function `preprocess`."
      ]
    },
    {
      "cell_type": "code",
      "metadata": {
        "id": "o8kkYlV8ERIb"
      },
      "source": [
        "def preprocess(X: np.ndarray, y: np.ndarray) -> (np.ndarray, np.ndarray):\n",
        "    \"\"\"\n",
        "    Perform mean normalization on the features and true labels.\n",
        "\n",
        "    Input:\n",
        "    - X: Inputs (n features over m instances).\n",
        "    - y: True labels.\n",
        "\n",
        "    Returns a two vales:\n",
        "    - X: The mean normalized inputs.\n",
        "    - y: The mean normalized labels.\n",
        "    \"\"\"\n",
        "    X = X.copy()\n",
        "    y = y.copy()\n",
        "\n",
        "    ###########################################################################\n",
        "    # TODO: Implement the normalization function.                             #\n",
        "    ###########################################################################\n",
        "    # Supposed to be (x - avg(x)) / (max(x) - min(x))? --> In the piazza said to do as below.\n",
        "\n",
        "    X = (X - np.mean(X, axis=0)) / np.std(X, axis=0)\n",
        "    y = (y - np.mean(y, axis=0)) / np.std(y, axis=0)\n",
        "    ###########################################################################\n",
        "    #                             END OF YOUR CODE                            #\n",
        "    ###########################################################################\n",
        "    return X, y"
      ],
      "execution_count": 59,
      "outputs": []
    },
    {
      "cell_type": "code",
      "metadata": {
        "nbgrader": {
          "grade": true,
          "grade_id": "cell-9bb6a28b6b6932fa",
          "locked": false,
          "points": 5,
          "schema_version": 1,
          "solution": true
        },
        "id": "p67XGluRERIb"
      },
      "source": [
        "X, y = preprocess(X, y)"
      ],
      "execution_count": 60,
      "outputs": []
    },
    {
      "cell_type": "markdown",
      "metadata": {
        "id": "OPRgGrv_ERIc"
      },
      "source": [
        "We will split the data into two datasets: \n",
        "1. The training dataset will contain 80% of the data and will always be used for model training.\n",
        "2. The validation dataset will contain the remaining 20% of the data and will be used for model evaluation. For example, we will pick the best alpha and the best features using the validation dataset, while still training the model using the training dataset."
      ]
    },
    {
      "cell_type": "code",
      "metadata": {
        "id": "rAVf4WS2ERIc"
      },
      "source": [
        "# training and validation split\n",
        "np.random.seed(42)\n",
        "indices = np.random.permutation(X.shape[0])\n",
        "idx_train, idx_val = indices[:int(0.8*X.shape[0])], indices[int(0.8*X.shape[0]):]\n",
        "X_train, X_val = X[idx_train], X[idx_val]\n",
        "y_train, y_val = y[idx_train], y[idx_val]"
      ],
      "execution_count": 61,
      "outputs": []
    },
    {
      "cell_type": "markdown",
      "metadata": {
        "nbgrader": {
          "grade": false,
          "grade_id": "cell-0c168d036748663e",
          "locked": true,
          "schema_version": 1,
          "solution": false
        },
        "id": "mv6bwuEjERIc"
      },
      "source": [
        "## Data Visualization\n",
        "Another useful tool is data visualization. Since this problem has only two parameters, it is possible to create a two-dimensional scatter plot to visualize the data. Note that many real-world datasets are highly dimensional and cannot be visualized naively. We will be using `matplotlib` for all data visualization purposes since it offers a wide range of visualization tools and is easy to use."
      ]
    },
    {
      "cell_type": "code",
      "metadata": {
        "nbgrader": {
          "grade": false,
          "grade_id": "cell-cbad8871e083093f",
          "locked": true,
          "schema_version": 1,
          "solution": false
        },
        "colab": {
          "base_uri": "https://localhost:8080/",
          "height": 502
        },
        "id": "k1RZM788ERIc",
        "outputId": "d2cf5611-87e2-47c0-f55c-1e080d891fb1"
      },
      "source": [
        "plt.plot(X_train, y_train, 'ro', ms=1, mec='k') # the parameters control the size, shape and color of the scatter plot\n",
        "plt.ylabel('Price in USD', fontsize=16)\n",
        "plt.xlabel('sq.ft', fontsize=16)\n",
        "plt.show()"
      ],
      "execution_count": 62,
      "outputs": [
        {
          "output_type": "display_data",
          "data": {
            "image/png": "[encoded data removed]",
            "text/plain": [
              "<Figure size 1008x576 with 1 Axes>"
            ]
          },
          "metadata": {
            "tags": [],
            "needs_background": "light"
          }
        }
      ]
    },
    {
      "cell_type": "markdown",
      "metadata": {
        "nbgrader": {
          "grade": false,
          "grade_id": "cell-c50f0a0e569142ed",
          "locked": true,
          "schema_version": 1,
          "solution": false
        },
        "id": "-nJsY61SERIc"
      },
      "source": [
        "## Bias Trick\n",
        "\n",
        "Make sure that `X` takes into consideration the bias $\\theta_0$ in the linear model. Hint, recall that the predications of our linear model are of the form:\n",
        "\n",
        "$$\n",
        "\\hat{y} = h_\\theta(x) = \\theta^T x = \\theta_0 + \\theta_1 x_1\n",
        "$$\n",
        "\n",
        "Add columns of ones as the zeroth column of the features (do this for both the training and validation sets)."
      ]
    },
    {
      "cell_type": "code",
      "metadata": {
        "nbgrader": {
          "grade": true,
          "grade_id": "cell-44853962dc1651df",
          "locked": false,
          "points": 2,
          "schema_version": 1,
          "solution": true
        },
        "id": "4x5FDp5pERIc"
      },
      "source": [
        "###########################################################################\n",
        "#                            START OF YOUR CODE                           #\n",
        "###########################################################################\n",
        "ones = np.ones((X_train.shape[0], 1))\n",
        "X_train = X_train.reshape((X_train.shape[0], 1))\n",
        "X_train = np.hstack((ones, X_train))\n",
        "\n",
        "ones = np.ones((X_val.shape[0], 1))\n",
        "X_val = X_val.reshape((X_val.shape[0], 1))\n",
        "X_val = np.hstack((ones, X_val))\n",
        "###########################################################################\n",
        "#                             END OF YOUR CODE                            #\n",
        "###########################################################################"
      ],
      "execution_count": 63,
      "outputs": []
    },
    {
      "cell_type": "markdown",
      "metadata": {
        "nbgrader": {
          "grade": false,
          "grade_id": "cell-c7d7fd68c1b24943",
          "locked": true,
          "schema_version": 1,
          "solution": false
        },
        "id": "ZgYqxvMeERId"
      },
      "source": [
        "## Part 2: Single Variable Linear Regression (40 Points)\n",
        "Simple linear regression is a linear regression model with a single explanatory varaible and a single target value. \n",
        "\n",
        "$$\n",
        "\\hat{y} = h_\\theta(x) = \\theta^T x = \\theta_0 + \\theta_1 x_1\n",
        "$$\n",
        "\n",
        "## Gradient Descent \n",
        "\n",
        "Our task is to find the best possible linear line that explains all the points in our dataset. We start by guessing initial values for the linear regression parameters $\\theta$ and updating the values using gradient descent. \n",
        "\n",
        "The objective of linear regression is to minimize the cost function $J$:\n",
        "\n",
        "$$\n",
        "J(\\theta) = \\frac{1}{2m} \\sum_{i=1}^{n}(h_\\theta(x^{(i)})-y^{(i)})^2\n",
        "$$\n",
        "\n",
        "where the hypothesis (model) $h_\\theta(x)$ is given by a **linear** model:\n",
        "\n",
        "$$\n",
        "h_\\theta(x) = \\theta^T x = \\theta_0 + \\theta_1 x_1\n",
        "$$\n",
        "\n",
        "$\\theta_j$ are parameters of your model. and by changing those values accordingly you will be able to lower the cost function $J(\\theta)$. One way to accopmlish this is to use gradient descent:\n",
        "\n",
        "$$\n",
        "\\theta_j = \\theta_j - \\alpha \\frac{1}{m} \\sum_{i=1}^m (h_\\theta(x^{(i)})-y^{(i)})x_j^{(i)}\n",
        "$$\n",
        "\n",
        "In linear regresion, we know that with each step of gradient descent, the parameters $\\theta_j$ get closer to the optimal values that will achieve the lowest cost $J(\\theta)$."
      ]
    },
    {
      "cell_type": "markdown",
      "metadata": {
        "nbgrader": {
          "grade": false,
          "grade_id": "cell-0f83af93c0436542",
          "locked": true,
          "schema_version": 1,
          "solution": false
        },
        "id": "NzIBfjR5ERId"
      },
      "source": [
        "Implement the cost function `compute_cost`. (10 points)"
      ]
    },
    {
      "cell_type": "code",
      "metadata": {
        "id": "5MNaXAfTERId"
      },
      "source": [
        "def compute_cost(X: np.ndarray, y: np.ndarray, theta: np.ndarray) -> float:\n",
        "    \"\"\"\n",
        "    Computes the average squared difference between an obserbation's actual and\n",
        "    predicted values for linear regression.  \n",
        "\n",
        "    Input:\n",
        "    - X: inputs  (n features over m instances).\n",
        "    - y: true labels (1 value over m instances).\n",
        "    - theta: the parameters (weights) of the model being learned.\n",
        "\n",
        "    Returns a single value:\n",
        "    - J: the cost associated with the current set of parameters (single number).\n",
        "    \"\"\"\n",
        "    \n",
        "    J = 0  # Use J for the cost.\n",
        "    ###########################################################################\n",
        "    # TODO: Implement the MSE cost function.                                  #\n",
        "    ###########################################################################\n",
        "    J = np.sum(np.power(np.dot(X, theta) - y, 2)) / (2 * y.shape[0])\n",
        "    # J = np.sum(np.power(np.dot(X, theta) - y, 2)) / (2 * y.shape[0])\n",
        "    ###########################################################################\n",
        "    #                             END OF YOUR CODE                            #\n",
        "    ###########################################################################\n",
        "    return J"
      ],
      "execution_count": 64,
      "outputs": []
    },
    {
      "cell_type": "code",
      "metadata": {
        "nbgrader": {
          "grade": false,
          "grade_id": "cell-4c1cfec24e144479",
          "locked": true,
          "schema_version": 1,
          "solution": false
        },
        "id": "Cja4_wR2ERId",
        "colab": {
          "base_uri": "https://localhost:8080/"
        },
        "outputId": "23184b4b-4d58-4828-a452-a169ae505310"
      },
      "source": [
        "theta = np.array([-1, 2])\n",
        "J = compute_cost(X=X_train, y=y_train, theta=theta)\n",
        "J"
      ],
      "execution_count": 65,
      "outputs": [
        {
          "output_type": "execute_result",
          "data": {
            "text/plain": [
              "1.6003214548835494"
            ]
          },
          "metadata": {
            "tags": []
          },
          "execution_count": 65
        }
      ]
    },
    {
      "cell_type": "markdown",
      "metadata": {
        "nbgrader": {
          "grade": false,
          "grade_id": "cell-afdc527b73d275bb",
          "locked": true,
          "schema_version": 1,
          "solution": false
        },
        "id": "lyQDfLbnERIe"
      },
      "source": [
        "Implement the gradient descent function `gradient_descent`. (10 points)"
      ]
    },
    {
      "cell_type": "code",
      "metadata": {
        "id": "e3uxCyyzERIe"
      },
      "source": [
        "def gradient_descent(X: np.ndarray, y: np.ndarray, theta: np.ndarray, alpha: float, num_iters: int) -> (np.ndarray, np.ndarray):\n",
        "    \"\"\"\n",
        "    Learn the parameters of the model using gradient descent using \n",
        "    the *training set*. Gradient descent is an optimization algorithm \n",
        "    used to minimize some (loss) function by iteratively moving in \n",
        "    the direction of steepest descent as defined by the negative of \n",
        "    the gradient. We use gradient descent to update the parameters\n",
        "    (weights) of our model.\n",
        "\n",
        "    Input:\n",
        "    - X: Inputs  (n features over m instances).\n",
        "    - y: True labels (1 value over m instances).\n",
        "    - theta: The parameters (weights) of the model being learned.\n",
        "    - alpha: The learning rate of your model.\n",
        "    - num_iters: The number of updates performed.\n",
        "\n",
        "    Returns two values:\n",
        "    - theta: The learned parameters of your model.\n",
        "    - J_history: the loss value for every iteration.\n",
        "    \"\"\"\n",
        "    X = X.copy()\n",
        "    y = y.copy()\n",
        "    theta = theta.copy() # avoid changing the original thetas\n",
        "\n",
        "    J_history = [] # Use a python list to save cost in every iteration\n",
        "    ###########################################################################\n",
        "    # TODO: Implement the gradient descent optimization algorithm.            #\n",
        "    ###########################################################################\n",
        "    m = y.shape[0]\n",
        "    for i in range(num_iters):\n",
        "        theta = theta - (alpha / m) * np.matmul(X.T, np.matmul(X, theta.T) - y)\n",
        "        J_history.append(compute_cost(X=X, y=y, theta=theta))\n",
        "    ###########################################################################\n",
        "    #                             END OF YOUR CODE                            #\n",
        "    ###########################################################################\n",
        "    return theta, np.array(J_history)"
      ],
      "execution_count": 66,
      "outputs": []
    },
    {
      "cell_type": "code",
      "metadata": {
        "id": "DlXn8CanVWL-"
      },
      "source": [
        "np.random.seed(42)\n",
        "theta = np.random.random(size=2)\n",
        "iterations = 40000\n",
        "alpha = 0.1\n",
        "theta, J_history = gradient_descent(X=X_train ,y=y_train, theta=theta, alpha=alpha, num_iters=iterations)"
      ],
      "execution_count": 67,
      "outputs": []
    },
    {
      "cell_type": "markdown",
      "metadata": {
        "nbgrader": {
          "grade": false,
          "grade_id": "cell-86125cd57f0fdb89",
          "locked": true,
          "schema_version": 1,
          "solution": false
        },
        "id": "h1SWpx6tERIf"
      },
      "source": [
        "You can evaluate the learning process by monitoring the loss as training progress. In the following graph, we visualize the loss as a function of the iterations. This is possible since we are saving the loss value at every iteration in the `J_history` array. This visualization might help you find problems with your code. Notice that since the network converges quickly, we are using logarithmic scale for the number of iterations. "
      ]
    },
    {
      "cell_type": "code",
      "metadata": {
        "nbgrader": {
          "grade": false,
          "grade_id": "cell-a565f1f721f6377f",
          "locked": true,
          "schema_version": 1,
          "solution": false
        },
        "colab": {
          "base_uri": "https://localhost:8080/",
          "height": 531
        },
        "id": "XeSHktclERIf",
        "outputId": "cfc2ca66-2bfb-4a73-b21b-0415d1fd0a54"
      },
      "source": [
        "plt.plot(np.arange(iterations), J_history)\n",
        "plt.xscale('log')\n",
        "plt.xlabel('Iterations', fontsize=16)\n",
        "plt.ylabel('Loss', fontsize=16)\n",
        "plt.title('Loss as a function of iterations', fontsize=24, fontweight='bold', color='salmon')\n",
        "plt.show()"
      ],
      "execution_count": 68,
      "outputs": [
        {
          "output_type": "display_data",
          "data": {
            "image/png": "[encoded data removed]",
            "text/plain": [
              "<Figure size 1008x576 with 1 Axes>"
            ]
          },
          "metadata": {
            "tags": [],
            "needs_background": "light"
          }
        }
      ]
    },
    {
      "cell_type": "markdown",
      "metadata": {
        "nbgrader": {
          "grade": false,
          "grade_id": "cell-3bdd058ecc5db0eb",
          "locked": true,
          "schema_version": 1,
          "solution": false
        },
        "id": "MYJdzsgwERIf"
      },
      "source": [
        "Implement the pseudo-inverse function `pinv`. **Do not use `np.linalg.pinv`**, instead use only direct matrix multiplication as you saw in class (you can calculate the inverse of a matrix using `np.linalg.inv`). (10 points)"
      ]
    },
    {
      "cell_type": "code",
      "metadata": {
        "id": "sfHwThgxERIf"
      },
      "source": [
        "def pinv(X: np.ndarray, y: np.ndarray) -> np.ndarray:\n",
        "    \"\"\"\n",
        "    Calculate the optimal values of the parameters using the pseudoinverse\n",
        "    approach as you saw in class using the *training set*.\n",
        "\n",
        "    Input:\n",
        "    - X: Inputs  (n features over m instances).\n",
        "    - y: True labels (1 value over m instances).\n",
        "\n",
        "    Returns two values:\n",
        "    - theta: The optimal parameters of your model.\n",
        "\n",
        "    ########## DO NOT USE np.linalg.pinv ##############\n",
        "    \"\"\"\n",
        "    X = X.copy()\n",
        "    y = y.copy()\n",
        "\n",
        "    pinv_theta = []\n",
        "    ###########################################################################\n",
        "    # TODO: Implement the pseudoinverse algorithm.                            #\n",
        "    ###########################################################################\n",
        "    pinv_x = np.matmul(np.linalg.inv(np.matmul(X.T, X)), X.T)\n",
        "    pinv_theta = np.matmul(pinv_x, y)\n",
        "    ###########################################################################\n",
        "    #                             END OF YOUR CODE                            #\n",
        "    ###########################################################################\n",
        "    return pinv_theta"
      ],
      "execution_count": 69,
      "outputs": []
    },
    {
      "cell_type": "code",
      "metadata": {
        "nbgrader": {
          "grade": false,
          "grade_id": "cell-ee89ac06af3087ae",
          "locked": true,
          "schema_version": 1,
          "solution": false
        },
        "id": "zOm_6kAIERIg"
      },
      "source": [
        "theta_pinv = pinv(X_train ,y_train)\n",
        "J_pinv = compute_cost(X_train, y_train, theta_pinv)"
      ],
      "execution_count": 70,
      "outputs": []
    },
    {
      "cell_type": "markdown",
      "metadata": {
        "id": "vk71X-mUERIg"
      },
      "source": [
        "We can add the loss value for the theta calculated using the psuedo-inverse to our graph. This is another sanity check as the loss of our model should converge to the psuedo-inverse loss."
      ]
    },
    {
      "cell_type": "code",
      "metadata": {
        "nbgrader": {
          "grade": false,
          "grade_id": "cell-639b53fc41479335",
          "locked": true,
          "schema_version": 1,
          "solution": false
        },
        "colab": {
          "base_uri": "https://localhost:8080/",
          "height": 531
        },
        "id": "8r_85WEDERIg",
        "outputId": "3bb4f2fd-48df-440f-8e6d-3d99d638c7d9"
      },
      "source": [
        "plt.plot(np.arange(iterations), J_history)\n",
        "plt.xscale('log')\n",
        "plt.xlabel('Iterations', fontsize=16)\n",
        "plt.ylabel('Loss', fontsize=16)\n",
        "plt.title('Loss as a function of iterations', fontsize=24, fontweight='bold', color='salmon')\n",
        "plt.hlines(y=J_pinv, xmin=0, xmax=len(J_history), color='r', linewidth=1, linestyle='dashed')\n",
        "plt.show()"
      ],
      "execution_count": 71,
      "outputs": [
        {
          "output_type": "display_data",
          "data": {
            "image/png": "[encoded data removed]",
            "text/plain": [
              "<Figure size 1008x576 with 1 Axes>"
            ]
          },
          "metadata": {
            "tags": [],
            "needs_background": "light"
          }
        }
      ]
    },
    {
      "cell_type": "markdown",
      "metadata": {
        "nbgrader": {
          "grade": false,
          "grade_id": "cell-5043aa5363cbe5c9",
          "locked": true,
          "schema_version": 1,
          "solution": false
        },
        "id": "da08buPVERIg"
      },
      "source": [
        "We can use a better approach for the implementation of `gradient_descent`. Instead of performing 40,000 iterations, we wish to stop when the improvement of the loss value is smaller than `1e-8` from one iteration to the next. Implement the function `efficient_gradient_descent`. (5 points)"
      ]
    },
    {
      "cell_type": "code",
      "metadata": {
        "id": "ob4yTCfaERIg"
      },
      "source": [
        "def efficient_gradient_descent(X: np.ndarray, y: np.ndarray, theta: np.ndarray, alpha: float, num_iters: int) -> (np.ndarray, np.ndarray):\n",
        "    \"\"\"\n",
        "    Learn the parameters of your model using the *training set*, but stop \n",
        "    the learning process once the improvement of the loss value is smaller \n",
        "    than 1e-8. This function is very similar to the gradient descent \n",
        "    function you already implemented.\n",
        "\n",
        "    Input:\n",
        "    - X: Inputs  (n features over m instances).\n",
        "    - y: True labels (1 value over m instances).\n",
        "    - theta: The parameters (weights) of the model being learned.\n",
        "    - alpha: The learning rate of your model.\n",
        "    - num_iters: The number of updates performed.\n",
        "\n",
        "    Returns two values:\n",
        "    - theta: The learned parameters of your model.\n",
        "    - J_history: the loss value for every iteration.\n",
        "    \"\"\"\n",
        "    X = X.copy()\n",
        "    y = y.copy()\n",
        "\n",
        "    J_history = [] # Use a python list to save cost in every iteration\n",
        "    theta = theta.copy() # avoid changing the original thetas\n",
        "    ###########################################################################\n",
        "    # TODO: Implement the gradient descent optimization algorithm.            #\n",
        "    ###########################################################################\n",
        "    m = y.shape[0]\n",
        "    for i in range(num_iters):\n",
        "        theta = theta - (alpha / m) * np.matmul(X.T, np.matmul(X, theta.T) - y)\n",
        "        J_history.append(compute_cost(X=X, y=y, theta=theta))\n",
        "\n",
        "        if i > 0 and J_history[i-1] - J_history[i]  < 1e-8:\n",
        "            break\n",
        "    ###########################################################################\n",
        "    #                             END OF YOUR CODE                            #\n",
        "    ###########################################################################\n",
        "    return theta, np.array(J_history)"
      ],
      "execution_count": 72,
      "outputs": []
    },
    {
      "cell_type": "markdown",
      "metadata": {
        "nbgrader": {
          "grade": false,
          "grade_id": "cell-6e2524d07523d950",
          "locked": true,
          "schema_version": 1,
          "solution": false
        },
        "id": "C0deGtmRERIg"
      },
      "source": [
        "The learning rate is another factor that determines the performance of our model in terms of speed and accuracy. Complete the function `find_best_alpha`. Make sure you use the training dataset to learn the parameters (thetas) and use those parameters with the validation dataset to compute the cost."
      ]
    },
    {
      "cell_type": "code",
      "metadata": {
        "id": "MC9QMSgyERIg"
      },
      "source": [
        "def find_best_alpha(X_train: np.ndarray, y_train: np.ndarray, X_val: np.ndarray, y_val: np.ndarray, iterations: int) -> dict:\n",
        "    \"\"\"\n",
        "    Iterate over provided values of alpha and train a model using the \n",
        "    *training* dataset. maintain a python dictionary with alpha as the \n",
        "    key and the loss on the *validation* set as the value.\n",
        "\n",
        "    Input:\n",
        "    - X_train, y_train, X_val, y_val: the training and validation data\n",
        "    - iterations: maximum number of iterations\n",
        "\n",
        "    Returns:\n",
        "    - alpha_dict: A python dictionary - {key (alpha) : value (validation loss)}\n",
        "    \"\"\"\n",
        "    \n",
        "    X_train = X_train.copy()\n",
        "    y_train = y_train.copy()\n",
        "    X_val = X_val.copy()\n",
        "    y_val = y_val.copy()\n",
        "\n",
        "    alphas = [0.00001, 0.00003, 0.0001, 0.0003, 0.001, 0.003, 0.01, 0.03, 0.1, 0.3, 1, 2, 3]\n",
        "    alpha_dict = {}\n",
        "    ###########################################################################\n",
        "    # TODO: Implement the function.                                           #\n",
        "    ###########################################################################\n",
        "    np.random.seed(42)\n",
        "    theta_rnd = np.random.random(size=X_train.shape[1])\n",
        "    for alpha in alphas:\n",
        "        theta, _ = efficient_gradient_descent(X=X_train, y=y_train, theta=theta_rnd, alpha=alpha, num_iters=iterations)\n",
        "        alpha_dict[alpha] = compute_cost(X=X_val, y=y_val, theta=theta)   \n",
        "    ###########################################################################\n",
        "    #                             END OF YOUR CODE                            #\n",
        "    ###########################################################################\n",
        "    return alpha_dict"
      ],
      "execution_count": 73,
      "outputs": []
    },
    {
      "cell_type": "code",
      "metadata": {
        "nbgrader": {
          "grade": false,
          "grade_id": "cell-a8b088fe7a10910a",
          "locked": true,
          "schema_version": 1,
          "solution": false
        },
        "id": "fJGzcr3gERIh"
      },
      "source": [
        "alpha_dict = find_best_alpha(X_train=X_train, y_train=y_train, X_val=X_val, y_val=y_val, iterations=40000)"
      ],
      "execution_count": 74,
      "outputs": []
    },
    {
      "cell_type": "markdown",
      "metadata": {
        "nbgrader": {
          "grade": false,
          "grade_id": "cell-5bd93130c022d3e1",
          "locked": true,
          "schema_version": 1,
          "solution": false
        },
        "id": "wXLLLzrmERIh"
      },
      "source": [
        "Obtain the best learning rate from the dictionary `alpha_dict`. This can be done in a single line using built-in functions."
      ]
    },
    {
      "cell_type": "code",
      "metadata": {
        "nbgrader": {
          "grade": false,
          "grade_id": "cell-4f81cf375ac46b73",
          "locked": false,
          "schema_version": 1,
          "solution": true
        },
        "colab": {
          "base_uri": "https://localhost:8080/"
        },
        "id": "NX4wr7JoERIh",
        "outputId": "6730b245-c63e-41b8-f9a9-ff5ebcbd2c89"
      },
      "source": [
        "best_alpha = None\n",
        "###########################################################################\n",
        "#                            START OF YOUR CODE                           #\n",
        "###########################################################################\n",
        "best_alpha = min(alpha_dict, key=alpha_dict.get)\n",
        "###########################################################################\n",
        "#                             END OF YOUR CODE                            #\n",
        "###########################################################################\n",
        "print(best_alpha)"
      ],
      "execution_count": 75,
      "outputs": [
        {
          "output_type": "stream",
          "text": [
            "1\n"
          ],
          "name": "stdout"
        }
      ]
    },
    {
      "cell_type": "markdown",
      "metadata": {
        "nbgrader": {
          "grade": false,
          "grade_id": "cell-d16367ecb7183996",
          "locked": true,
          "schema_version": 1,
          "solution": false
        },
        "id": "sL2aDluvERIh"
      },
      "source": [
        "Pick the best three alpha values you just calculated and provide **one** graph with three lines indicating the training loss as a function of iterations (Use 10,000 iterations). Note you are required to provide general code for this purpose (no hard-coding). Make sure the visualization is clear and informative. (5 points)"
      ]
    },
    {
      "cell_type": "code",
      "metadata": {
        "nbgrader": {
          "grade": true,
          "grade_id": "cell-448638e817503ca3",
          "locked": false,
          "points": 0,
          "schema_version": 1,
          "solution": true
        },
        "colab": {
          "base_uri": "https://localhost:8080/",
          "height": 531
        },
        "id": "CVdnGckGERIh",
        "outputId": "b2c5ca02-598d-49fb-9c15-ceb667884e87"
      },
      "source": [
        "###########################################################################\n",
        "#                            START OF YOUR CODE                           #\n",
        "###########################################################################\n",
        "_d = alpha_dict.copy();\n",
        "alpha_1st = min(_d, key=alpha_dict.get)\n",
        "del _d[alpha_1st]\n",
        "alpha_2nd = min(_d, key=alpha_dict.get)\n",
        "del _d[alpha_2nd]\n",
        "alpha_3rd = min(_d, key=alpha_dict.get)\n",
        "del _d[alpha_3rd]\n",
        "\n",
        "np.random.seed(42)\n",
        "theta_rnd = np.random.random(size=X_train.shape[1])\n",
        "\n",
        "iterations = 10000\n",
        "_, J_history = gradient_descent(X=X_train ,y=y_train, theta=theta_rnd, alpha=alpha_1st, num_iters=iterations)\n",
        "_, J_history2 = gradient_descent(X=X_train ,y=y_train, theta=theta_rnd, alpha=alpha_2nd, num_iters=iterations)\n",
        "_, J_history3 = gradient_descent(X=X_train ,y=y_train, theta=theta_rnd, alpha=alpha_3rd, num_iters=iterations)\n",
        "\n",
        "plt.plot(np.arange(len(J_history)), J_history, label=f'Alpha 1st - {alpha_1st}')\n",
        "plt.plot(np.arange(len(J_history2)), J_history2, label=f'Alpha 2nd - {alpha_2nd}')\n",
        "plt.plot(np.arange(len(J_history3)), J_history3, label=f'Alpha 3rd - {alpha_3rd}')\n",
        "\n",
        "plt.legend(fontsize='x-large')\n",
        "\n",
        "plt.xscale('log')\n",
        "plt.xlabel('Iterations', fontsize=16)\n",
        "plt.ylabel('Loss', fontsize=16)\n",
        "\n",
        "plt.title('Loss as a function of iterations', fontsize=24, fontweight='bold', color='salmon')\n",
        "plt.show()\n",
        "###########################################################################\n",
        "#                             END OF YOUR CODE                            #\n",
        "###########################################################################"
      ],
      "execution_count": 76,
      "outputs": [
        {
          "output_type": "display_data",
          "data": {
            "image/png": "[encoded data removed]",
            "text/plain": [
              "<Figure size 1008x576 with 1 Axes>"
            ]
          },
          "metadata": {
            "tags": [],
            "needs_background": "light"
          }
        }
      ]
    },
    {
      "cell_type": "markdown",
      "metadata": {
        "nbgrader": {
          "grade": false,
          "grade_id": "cell-b73893d236bff1d5",
          "locked": true,
          "schema_version": 1,
          "solution": false
        },
        "id": "S7rqQvf9ERIh"
      },
      "source": [
        "This is yet another sanity check. This function plots the regression lines of your model and the model based on the pseudoinverse calculation. Both models should exhibit the same trend through the data. "
      ]
    },
    {
      "cell_type": "code",
      "metadata": {
        "nbgrader": {
          "grade": false,
          "grade_id": "cell-c7ee7d8763464371",
          "locked": true,
          "schema_version": 1,
          "solution": false
        },
        "colab": {
          "base_uri": "https://localhost:8080/",
          "height": 442
        },
        "id": "4Uozk5M_ERIh",
        "outputId": "7920988f-f709-43b4-b366-611dc81c071a"
      },
      "source": [
        "plt.figure(figsize=(7, 7))\n",
        "plt.plot(X_train[:,1], y_train, 'ro', ms=1, mec='k')\n",
        "plt.ylabel('Price in USD')\n",
        "plt.xlabel('sq.ft')\n",
        "plt.plot(X_train[:, 1], np.dot(X_train, theta), 'o')\n",
        "plt.plot(X_train[:, 1], np.dot(X_train, theta_pinv), '-')\n",
        "\n",
        "plt.legend(['Training data', 'Linear regression', 'Best theta']);"
      ],
      "execution_count": 77,
      "outputs": [
        {
          "output_type": "display_data",
          "data": {
            "image/png": "[encoded data removed]",
            "text/plain": [
              "<Figure size 504x504 with 1 Axes>"
            ]
          },
          "metadata": {
            "tags": [],
            "needs_background": "light"
          }
        }
      ]
    },
    {
      "cell_type": "markdown",
      "metadata": {
        "nbgrader": {
          "grade": false,
          "grade_id": "cell-e77c602466fab37d",
          "locked": true,
          "schema_version": 1,
          "solution": false
        },
        "id": "1znDLFTMERIh"
      },
      "source": [
        "## Part 2: Multivariate Linear Regression (30 points)\n",
        "\n",
        "In most cases, you will deal with databases that have more than one feature. It can be as little as two features and up to thousands of features. In those cases, we use a multiple linear regression model. The regression equation is almost the same as the simple linear regression equation:\n",
        "\n",
        "$$\n",
        "\\hat{y} = h_\\theta(\\vec{x}) = \\theta^T \\vec{x} = \\theta_0 + \\theta_1 x_1 + ... + \\theta_n x_n\n",
        "$$\n",
        "\n",
        "\n",
        "If you wrote vectorized code, this part should be straightforward. If your code is not vectorized, you should go back and edit your functions such that they support both multivariate and single variable regression. **Your code should not check the dimensionality of the input before running**."
      ]
    },
    {
      "cell_type": "code",
      "metadata": {
        "nbgrader": {
          "grade": false,
          "grade_id": "cell-15626dda8db26550",
          "locked": true,
          "schema_version": 1,
          "solution": false
        },
        "colab": {
          "base_uri": "https://localhost:8080/",
          "height": 224
        },
        "id": "0XlFq_yFERIi",
        "outputId": "4126cda1-4f0e-44c6-8e65-22a91976ee6d"
      },
      "source": [
        "# Read comma separated data\n",
        "df = pd.read_csv('data.csv')\n",
        "df.head()"
      ],
      "execution_count": 78,
      "outputs": [
        {
          "output_type": "execute_result",
          "data": {
            "text/html": [
              "<div>\n",
              "<style scoped>\n",
              "    .dataframe tbody tr th:only-of-type {\n",
              "        vertical-align: middle;\n",
              "    }\n",
              "\n",
              "    .dataframe tbody tr th {\n",
              "        vertical-align: top;\n",
              "    }\n",
              "\n",
              "    .dataframe thead th {\n",
              "        text-align: right;\n",
              "    }\n",
              "</style>\n",
              "<table border=\"1\" class=\"dataframe\">\n",
              "  <thead>\n",
              "    <tr style=\"text-align: right;\">\n",
              "      <th></th>\n",
              "      <th>id</th>\n",
              "      <th>date</th>\n",
              "      <th>price</th>\n",
              "      <th>bedrooms</th>\n",
              "      <th>bathrooms</th>\n",
              "      <th>sqft_living</th>\n",
              "      <th>sqft_lot</th>\n",
              "      <th>floors</th>\n",
              "      <th>waterfront</th>\n",
              "      <th>view</th>\n",
              "      <th>condition</th>\n",
              "      <th>grade</th>\n",
              "      <th>sqft_above</th>\n",
              "      <th>yr_built</th>\n",
              "      <th>yr_renovated</th>\n",
              "      <th>zipcode</th>\n",
              "      <th>lat</th>\n",
              "      <th>long</th>\n",
              "      <th>sqft_living15</th>\n",
              "      <th>sqft_lot15</th>\n",
              "    </tr>\n",
              "  </thead>\n",
              "  <tbody>\n",
              "    <tr>\n",
              "      <th>0</th>\n",
              "      <td>7129300520</td>\n",
              "      <td>20141013T000000</td>\n",
              "      <td>221900.0</td>\n",
              "      <td>3</td>\n",
              "      <td>1.00</td>\n",
              "      <td>1180</td>\n",
              "      <td>5650</td>\n",
              "      <td>1.0</td>\n",
              "      <td>0</td>\n",
              "      <td>0</td>\n",
              "      <td>3</td>\n",
              "      <td>7</td>\n",
              "      <td>1180</td>\n",
              "      <td>1955</td>\n",
              "      <td>0</td>\n",
              "      <td>98178</td>\n",
              "      <td>47.5112</td>\n",
              "      <td>-122.257</td>\n",
              "      <td>1340</td>\n",
              "      <td>5650</td>\n",
              "    </tr>\n",
              "    <tr>\n",
              "      <th>1</th>\n",
              "      <td>6414100192</td>\n",
              "      <td>20141209T000000</td>\n",
              "      <td>538000.0</td>\n",
              "      <td>3</td>\n",
              "      <td>2.25</td>\n",
              "      <td>2570</td>\n",
              "      <td>7242</td>\n",
              "      <td>2.0</td>\n",
              "      <td>0</td>\n",
              "      <td>0</td>\n",
              "      <td>3</td>\n",
              "      <td>7</td>\n",
              "      <td>2170</td>\n",
              "      <td>1951</td>\n",
              "      <td>1991</td>\n",
              "      <td>98125</td>\n",
              "      <td>47.7210</td>\n",
              "      <td>-122.319</td>\n",
              "      <td>1690</td>\n",
              "      <td>7639</td>\n",
              "    </tr>\n",
              "    <tr>\n",
              "      <th>2</th>\n",
              "      <td>5631500400</td>\n",
              "      <td>20150225T000000</td>\n",
              "      <td>180000.0</td>\n",
              "      <td>2</td>\n",
              "      <td>1.00</td>\n",
              "      <td>770</td>\n",
              "      <td>10000</td>\n",
              "      <td>1.0</td>\n",
              "      <td>0</td>\n",
              "      <td>0</td>\n",
              "      <td>3</td>\n",
              "      <td>6</td>\n",
              "      <td>770</td>\n",
              "      <td>1933</td>\n",
              "      <td>0</td>\n",
              "      <td>98028</td>\n",
              "      <td>47.7379</td>\n",
              "      <td>-122.233</td>\n",
              "      <td>2720</td>\n",
              "      <td>8062</td>\n",
              "    </tr>\n",
              "    <tr>\n",
              "      <th>3</th>\n",
              "      <td>2487200875</td>\n",
              "      <td>20141209T000000</td>\n",
              "      <td>604000.0</td>\n",
              "      <td>4</td>\n",
              "      <td>3.00</td>\n",
              "      <td>1960</td>\n",
              "      <td>5000</td>\n",
              "      <td>1.0</td>\n",
              "      <td>0</td>\n",
              "      <td>0</td>\n",
              "      <td>5</td>\n",
              "      <td>7</td>\n",
              "      <td>1050</td>\n",
              "      <td>1965</td>\n",
              "      <td>0</td>\n",
              "      <td>98136</td>\n",
              "      <td>47.5208</td>\n",
              "      <td>-122.393</td>\n",
              "      <td>1360</td>\n",
              "      <td>5000</td>\n",
              "    </tr>\n",
              "    <tr>\n",
              "      <th>4</th>\n",
              "      <td>1954400510</td>\n",
              "      <td>20150218T000000</td>\n",
              "      <td>510000.0</td>\n",
              "      <td>3</td>\n",
              "      <td>2.00</td>\n",
              "      <td>1680</td>\n",
              "      <td>8080</td>\n",
              "      <td>1.0</td>\n",
              "      <td>0</td>\n",
              "      <td>0</td>\n",
              "      <td>3</td>\n",
              "      <td>8</td>\n",
              "      <td>1680</td>\n",
              "      <td>1987</td>\n",
              "      <td>0</td>\n",
              "      <td>98074</td>\n",
              "      <td>47.6168</td>\n",
              "      <td>-122.045</td>\n",
              "      <td>1800</td>\n",
              "      <td>7503</td>\n",
              "    </tr>\n",
              "  </tbody>\n",
              "</table>\n",
              "</div>"
            ],
            "text/plain": [
              "           id             date     price  ...     long  sqft_living15  sqft_lot15\n",
              "0  7129300520  20141013T000000  221900.0  ... -122.257           1340        5650\n",
              "1  6414100192  20141209T000000  538000.0  ... -122.319           1690        7639\n",
              "2  5631500400  20150225T000000  180000.0  ... -122.233           2720        8062\n",
              "3  2487200875  20141209T000000  604000.0  ... -122.393           1360        5000\n",
              "4  1954400510  20150218T000000  510000.0  ... -122.045           1800        7503\n",
              "\n",
              "[5 rows x 20 columns]"
            ]
          },
          "metadata": {
            "tags": []
          },
          "execution_count": 78
        }
      ]
    },
    {
      "cell_type": "markdown",
      "metadata": {
        "nbgrader": {
          "grade": false,
          "grade_id": "cell-2dc0f4dc3491520c",
          "locked": true,
          "schema_version": 1,
          "solution": false
        },
        "id": "27wMjwRjERIi"
      },
      "source": [
        "## Preprocessing\n",
        "\n",
        "Like in the single variable case, we need to create a numpy array from the dataframe. Before doing so, we should notice that some of the features are clearly irrelevant."
      ]
    },
    {
      "cell_type": "code",
      "metadata": {
        "nbgrader": {
          "grade": true,
          "grade_id": "cell-a87b4027bd3bda4b",
          "locked": false,
          "points": 0,
          "schema_version": 1,
          "solution": true
        },
        "id": "YIjmzgeFERIi"
      },
      "source": [
        "X = df.drop(columns=['price', 'id', 'date']).values\n",
        "y = df['price'].values"
      ],
      "execution_count": 79,
      "outputs": []
    },
    {
      "cell_type": "markdown",
      "metadata": {
        "nbgrader": {
          "grade": false,
          "grade_id": "cell-1aa12f54513b1efa",
          "locked": true,
          "schema_version": 1,
          "solution": false
        },
        "id": "OsT7VCTwERIi"
      },
      "source": [
        "Use the **same** `preprocess` function you implemented previously. Notice that proper vectorized implementation should work regardless of the dimensionality of the input. You might want to check that your code in the previous parts still works."
      ]
    },
    {
      "cell_type": "code",
      "metadata": {
        "nbgrader": {
          "grade": false,
          "grade_id": "cell-f40a9df530db9399",
          "locked": true,
          "schema_version": 1,
          "solution": false
        },
        "id": "dlwR0ldPERIi"
      },
      "source": [
        "# preprocessing\n",
        "X, y = preprocess(X, y)"
      ],
      "execution_count": 80,
      "outputs": []
    },
    {
      "cell_type": "code",
      "metadata": {
        "id": "V9ROKl6MERIi"
      },
      "source": [
        "# training and validation split\n",
        "np.random.seed(42)\n",
        "indices = np.random.permutation(X.shape[0])\n",
        "idx_train, idx_val = indices[:int(0.8*X.shape[0])], indices[int(0.8*X.shape[0]):]\n",
        "X_train, X_val = X[idx_train,:], X[idx_val,:]\n",
        "y_train, y_val = y[idx_train], y[idx_val]"
      ],
      "execution_count": 81,
      "outputs": []
    },
    {
      "cell_type": "markdown",
      "metadata": {
        "id": "jnyhq3X7ERIi"
      },
      "source": [
        "Using 3D visualization, we can still observe trends in the data. Visualizing additional dimensions requires advanced techniques we will learn later in the course."
      ]
    },
    {
      "cell_type": "code",
      "metadata": {
        "nbgrader": {
          "grade": false,
          "grade_id": "cell-0c68216a26a9b5af",
          "locked": true,
          "schema_version": 1,
          "solution": false
        },
        "colab": {
          "base_uri": "https://localhost:8080/",
          "height": 391
        },
        "id": "NpWRVapDERIi",
        "outputId": "d0884656-9402-4e26-f073-8dc59e14fcc4"
      },
      "source": [
        "%matplotlib inline\n",
        "import mpl_toolkits.mplot3d.axes3d as p3\n",
        "fig = plt.figure(figsize=(5,5))\n",
        "ax = p3.Axes3D(fig)\n",
        "xx = X_train[:, 1][:1000]\n",
        "yy = X_train[:, 2][:1000]\n",
        "zz = y_train[:1000]\n",
        "ax.scatter(xx, yy, zz, marker='o')\n",
        "ax.set_xlabel('bathrooms')\n",
        "ax.set_ylabel('sqft_living')\n",
        "ax.set_zlabel('price')\n",
        "plt.show()"
      ],
      "execution_count": 82,
      "outputs": [
        {
          "output_type": "display_data",
          "data": {
            "image/png": "[encoded data removed]",
            "text/plain": [
              "<Figure size 360x360 with 1 Axes>"
            ]
          },
          "metadata": {
            "tags": [],
            "needs_background": "light"
          }
        }
      ]
    },
    {
      "cell_type": "markdown",
      "metadata": {
        "nbgrader": {
          "grade": false,
          "grade_id": "cell-70fcd47d69caea00",
          "locked": true,
          "schema_version": 1,
          "solution": false
        },
        "id": "uUxuh8qoERIj"
      },
      "source": [
        "Use the bias trick again (add a column of ones as the zeroth column in the both the training and validation datasets)."
      ]
    },
    {
      "cell_type": "code",
      "metadata": {
        "nbgrader": {
          "grade": true,
          "grade_id": "cell-2985911f4b7af3e1",
          "locked": false,
          "points": 0,
          "schema_version": 1,
          "solution": true
        },
        "id": "XEXD2tsqERIj"
      },
      "source": [
        "###########################################################################\n",
        "#                            START OF YOUR CODE                           #\n",
        "###########################################################################\n",
        "ones = np.ones((X_train.shape[0], 1))\n",
        "X_train = np.hstack((ones, X_train))\n",
        "\n",
        "ones = np.ones((X_val.shape[0], 1))\n",
        "X_val = np.hstack((ones, X_val))\n",
        "###########################################################################\n",
        "#                             END OF YOUR CODE                            #\n",
        "###########################################################################"
      ],
      "execution_count": 83,
      "outputs": []
    },
    {
      "cell_type": "markdown",
      "metadata": {
        "nbgrader": {
          "grade": false,
          "grade_id": "cell-2b89288ff61c80ac",
          "locked": true,
          "schema_version": 1,
          "solution": false
        },
        "id": "MceNzPJCERIj"
      },
      "source": [
        "Make sure the functions `compute_cost` (10 points), `gradient_descent` (15 points), and `pinv` (5 points) work on the multi-dimensional dataset. If you make any changes, make sure your code still works on the single variable regression model. "
      ]
    },
    {
      "cell_type": "code",
      "metadata": {
        "nbgrader": {
          "grade": false,
          "grade_id": "cell-81ab741781b2f6ec",
          "locked": true,
          "schema_version": 1,
          "solution": false
        },
        "id": "74-cIaxbERIj"
      },
      "source": [
        "shape = X_train.shape[1]\n",
        "theta = np.ones(shape)\n",
        "J = compute_cost(X=X_train, y=y_train, theta=theta)"
      ],
      "execution_count": 84,
      "outputs": []
    },
    {
      "cell_type": "code",
      "metadata": {
        "id": "-7YW0AbopOUC"
      },
      "source": [
        "alpha_dict = find_best_alpha(X_train=X_train, y_train=y_train, X_val=X_val, y_val=y_val, iterations=40000)\n",
        "best_alpha = min(alpha_dict, key=alpha_dict.get)"
      ],
      "execution_count": 85,
      "outputs": []
    },
    {
      "cell_type": "code",
      "metadata": {
        "nbgrader": {
          "grade": false,
          "grade_id": "cell-6f25fb05bd6c648a",
          "locked": true,
          "schema_version": 1,
          "solution": false
        },
        "id": "Rvn6Q4vuERIj"
      },
      "source": [
        "np.random.seed(42)\n",
        "shape = X_train.shape[1]\n",
        "theta = np.random.random(shape)\n",
        "iterations = 40000\n",
        "theta, J_history = gradient_descent(X=X_train ,y=y_train, theta=theta, alpha=best_alpha, num_iters=iterations)"
      ],
      "execution_count": 86,
      "outputs": []
    },
    {
      "cell_type": "code",
      "metadata": {
        "nbgrader": {
          "grade": false,
          "grade_id": "cell-827d1de1293be51f",
          "locked": true,
          "schema_version": 1,
          "solution": false
        },
        "id": "lHlqpLL9ERIj"
      },
      "source": [
        "theta_pinv = pinv(X=X_train ,y=y_train)\n",
        "J_pinv = compute_cost(X=X_train, y=y_train, theta=theta_pinv)"
      ],
      "execution_count": 87,
      "outputs": []
    },
    {
      "cell_type": "markdown",
      "metadata": {
        "id": "TV2rDhZVERIj"
      },
      "source": [
        "We can use visualization to make sure the code works well. Notice we use logarithmic scale for the number of iterations, since gradient descent converges after ~500 iterations."
      ]
    },
    {
      "cell_type": "code",
      "metadata": {
        "nbgrader": {
          "grade": false,
          "grade_id": "cell-4fa207b72d2445c2",
          "locked": true,
          "schema_version": 1,
          "solution": false
        },
        "colab": {
          "base_uri": "https://localhost:8080/",
          "height": 313
        },
        "id": "eulGP0BvERIj",
        "outputId": "6911210a-f8d7-49c6-a272-26d1c8cbbc37"
      },
      "source": [
        "plt.plot(np.arange(iterations), J_history)\n",
        "plt.xscale('log')\n",
        "plt.xlabel('Iterations', fontsize=16)\n",
        "plt.ylabel('Loss', fontsize=16)\n",
        "plt.title('Loss as a function of iterations - multivariate linear regression', fontsize=24, fontweight='bold', color='salmon')\n",
        "plt.hlines(y = J_pinv, xmin = 0, xmax = len(J_history), color='r',\n",
        "           linewidth = 1, linestyle = 'dashed')\n",
        "plt.show()"
      ],
      "execution_count": 88,
      "outputs": [
        {
          "output_type": "display_data",
          "data": {
            "image/png": "[encoded data removed]",
            "text/plain": [
              "<Figure size 432x288 with 1 Axes>"
            ]
          },
          "metadata": {
            "tags": [],
            "needs_background": "light"
          }
        }
      ]
    },
    {
      "cell_type": "markdown",
      "metadata": {
        "nbgrader": {
          "grade": false,
          "grade_id": "cell-cad652570cee3629",
          "locked": true,
          "schema_version": 1,
          "solution": false
        },
        "id": "6CfUZ3j2ERIk"
      },
      "source": [
        "## Part 3: Find best features for regression (10 points)\n",
        "\n",
        "Adding additional features to our regression model makes it more complicated but does not necessarily improves performance.\n",
        "Use forward and backward selection and find 4 features that best minimizes the loss. First, we will reload the dataset as a dataframe in order to access the feature names."
      ]
    },
    {
      "cell_type": "code",
      "metadata": {
        "id": "cRPl6X2vERIk"
      },
      "source": [
        "df = pd.read_csv('data.csv')\n",
        "\n",
        "all_features = df.drop(columns=['id', 'date'])\n",
        "all_features = (all_features - all_features.mean(axis=0)) / all_features.std(axis=0)\n",
        "\n",
        "y = all_features['price'].values\n",
        "\n",
        "all_features.drop(columns=['price'], inplace=True)\n",
        "\n",
        "all_features_train = all_features.iloc[idx_train]\n",
        "all_features_val = all_features.iloc[idx_val]\n",
        "\n",
        "y_train = y[idx_train]\n",
        "y_val = y[idx_val]"
      ],
      "execution_count": 89,
      "outputs": []
    },
    {
      "cell_type": "markdown",
      "metadata": {
        "id": "t7ocj_7DERIk"
      },
      "source": [
        "### Forward Feature Selection\n",
        "\n",
        "Complete the function `forward_selection`. Train the model using a single feature at a time, and choose the best feature using the validation dataset. Next, check which feature performs best when added to the feature you previously chose. Repeat this process until you reach 4 features + bias. You are free to use any arguments you need."
      ]
    },
    {
      "cell_type": "code",
      "metadata": {
        "id": "Xqra2czRW4n3"
      },
      "source": [
        "def forward_selection(all_features_train: pd.DataFrame, all_features_val: pd.DataFrame, y_train: np.ndarray, y_val: np.ndarray) -> list:\n",
        "    \"\"\"\n",
        "    Train the model using the training set using a single feature.\n",
        "    Choose the best feature according to the validation set. Next,\n",
        "    check which feature performs best when added to the feature\n",
        "    you previously chose. Repeat this process until you reach 4\n",
        "    features and the bias. Don't forget the bias trick.\n",
        "\n",
        "    Returns:\n",
        "    - The names of the best features using forward selection.\n",
        "    \"\"\"\n",
        "    np.random.seed(42)\n",
        "    best_features = None\n",
        "    ###########################################################################\n",
        "    # TODO: Implement the function.                                           #\n",
        "    ###########################################################################\n",
        "\n",
        "    all_features_train = all_features_train.copy()\n",
        "    all_features_val = all_features_val.copy()\n",
        "    y_train = y_train.copy()\n",
        "    y_val = y_val.copy()\n",
        "\n",
        "    best_features = []\n",
        "\n",
        "    for feature_k in range(4):\n",
        "        feature_name = ''\n",
        "        feature_J = np.inf\n",
        "        for feature in all_features_train.columns:\n",
        "            if best_features.__contains__(feature):\n",
        "                continue\n",
        "\n",
        "            X_train = all_features_train[best_features + [feature]].values\n",
        "            X_train = np.hstack((np.ones((X_train.shape[0], 1)), X_train))\n",
        "\n",
        "            X_val = all_features_val[best_features + [feature]].values\n",
        "            X_val = np.hstack((np.ones((X_val.shape[0], 1)), X_val))\n",
        "\n",
        "            theta = pinv(X=X_train, y=y_train)\n",
        "            feature_cost = compute_cost(X=X_val, y=y_val, theta=theta)\n",
        "\n",
        "            if feature_J > feature_cost:\n",
        "                feature_name = feature\n",
        "                feature_J = feature_cost\n",
        "\n",
        "        print(f'{feature_k + 1} - ', feature_name)\n",
        "        best_features.append(feature_name)\n",
        "\n",
        "    ###########################################################################\n",
        "    #                             END OF YOUR CODE                            #\n",
        "    ###########################################################################\n",
        "    return best_features"
      ],
      "execution_count": 90,
      "outputs": []
    },
    {
      "cell_type": "code",
      "metadata": {
        "colab": {
          "base_uri": "https://localhost:8080/"
        },
        "id": "Hkd-FV3JXXkf",
        "outputId": "a14768eb-aec9-4378-e05b-190a1e6964be"
      },
      "source": [
        "forward_selection(all_features_train=all_features_train, all_features_val=all_features_val, y_train=y_train, y_val=y_val)"
      ],
      "execution_count": 91,
      "outputs": [
        {
          "output_type": "stream",
          "text": [
            "1 -  sqft_living\n",
            "2 -  lat\n",
            "3 -  waterfront\n",
            "4 -  grade\n"
          ],
          "name": "stdout"
        },
        {
          "output_type": "execute_result",
          "data": {
            "text/plain": [
              "['sqft_living', 'lat', 'waterfront', 'grade']"
            ]
          },
          "metadata": {
            "tags": []
          },
          "execution_count": 91
        }
      ]
    },
    {
      "cell_type": "markdown",
      "metadata": {
        "id": "N9rNJGbuERIk"
      },
      "source": [
        "### Backward Feature Selection\n",
        "\n",
        "Complete the function `backward_selection`. Train the model with all but one of the features at a time and remove the worst feature (the feature that its absence yields the best loss value using the validation dataset). Next, remove an additional feature along with the feature you previously removed. Repeat this process until you reach 4 features + bias. You are free to use any arguments you need."
      ]
    },
    {
      "cell_type": "code",
      "metadata": {
        "id": "m_slBD32ZiCf"
      },
      "source": [
        "def backward_selection(all_features_train: pd.DataFrame, all_features_val: pd.DataFrame, y_train: np.ndarray, y_val: np.ndarray) -> list:\n",
        "    \"\"\"\n",
        "    Train the model using the training set using all but one of the\n",
        "    features at a time. Remove the worst feature according to the\n",
        "    validation set. Next, remove an additional feature along with the\n",
        "    feature you previously removed. Repeat this process until you\n",
        "    reach 4 features and the bias. Don't forget the bias trick.\n",
        "\n",
        "    Returns:\n",
        "    - The names of the best features using backward selection.\n",
        "    \"\"\"\n",
        "    np.random.seed(42)\n",
        "    best_features = None\n",
        "    ###########################################################################\n",
        "    # TODO: Implement the function.                                           #\n",
        "    ###########################################################################\n",
        "\n",
        "    all_features_train = all_features_train.copy()\n",
        "    all_features_val = all_features_val.copy()\n",
        "    y_train = y_train.copy()\n",
        "    y_val = y_val.copy()\n",
        "    \n",
        "    features_cols = all_features.columns.tolist()\n",
        "\n",
        "    remove_features = []\n",
        "\n",
        "    while True:\n",
        "        feature_name = ''\n",
        "        feature_J = np.inf\n",
        "        for feature in all_features.columns:\n",
        "            if remove_features.__contains__(feature):\n",
        "                continue\n",
        "\n",
        "            features = features_cols.copy()\n",
        "\n",
        "            if features.__contains__(feature):\n",
        "                features.remove(feature)\n",
        "\n",
        "            for r in remove_features:\n",
        "                if features.__contains__(r):\n",
        "                    features.remove(r)\n",
        "\n",
        "            X_train = all_features_train[features].values\n",
        "            X_train = np.hstack((np.ones((X_train.shape[0], 1)), X_train))\n",
        "\n",
        "            X_val = all_features_val[features].values\n",
        "            X_val = np.hstack((np.ones((X_val.shape[0], 1)), X_val))\n",
        "\n",
        "            theta = pinv(X=X_train, y=y_train)\n",
        "            feature_cost = compute_cost(X=X_val, y=y_val, theta=theta)\n",
        "\n",
        "            if feature_J > feature_cost:\n",
        "                feature_name = feature\n",
        "                feature_J = feature_cost\n",
        "\n",
        "        print(f'Removing {feature_name}')\n",
        "        remove_features.append(feature_name)\n",
        "\n",
        "        if len(features_cols) - len(remove_features) == 4:\n",
        "            break\n",
        "\n",
        "    best_features = features_cols.copy()\n",
        "\n",
        "    for r in remove_features:\n",
        "        if r in best_features:\n",
        "            best_features.remove(r)\n",
        "\n",
        "    ###########################################################################\n",
        "    #                             END OF YOUR CODE                            #\n",
        "    ###########################################################################\n",
        "    return best_features"
      ],
      "execution_count": 92,
      "outputs": []
    },
    {
      "cell_type": "code",
      "metadata": {
        "colab": {
          "base_uri": "https://localhost:8080/"
        },
        "id": "IvHh6MtjERIm",
        "outputId": "b035a461-2059-4625-e6e5-d0e31474ed41"
      },
      "source": [
        "backward_selection(all_features_train=all_features_train, all_features_val=all_features_val, y_train=y_train, y_val=y_val)"
      ],
      "execution_count": 93,
      "outputs": [
        {
          "output_type": "stream",
          "text": [
            "Removing sqft_living15\n",
            "Removing sqft_lot\n",
            "Removing sqft_lot15\n",
            "Removing floors\n",
            "Removing yr_renovated\n",
            "Removing condition\n",
            "Removing long\n",
            "Removing sqft_above\n",
            "Removing zipcode\n",
            "Removing view\n",
            "Removing bathrooms\n",
            "Removing bedrooms\n",
            "Removing yr_built\n"
          ],
          "name": "stdout"
        },
        {
          "output_type": "execute_result",
          "data": {
            "text/plain": [
              "['sqft_living', 'waterfront', 'grade', 'lat']"
            ]
          },
          "metadata": {
            "tags": []
          },
          "execution_count": 93
        }
      ]
    },
    {
      "cell_type": "markdown",
      "metadata": {
        "id": "bMtmEE0rERIm"
      },
      "source": [
        "Give an explanations to the results. Do they make sense?"
      ]
    },
    {
      "cell_type": "markdown",
      "metadata": {
        "id": "woCWpnZ3ERIm"
      },
      "source": [
        "We found that the forward and backward outputs are the same and the features are: sqft_living, waterfront, grade, lat\n",
        "\n",
        "The results make sense because the way we calculating the cost doesn't matter if we calculate forward or backward.\n",
        "\n",
        "In the forward (first iteration) approach, we calculating $J_1$ to $J_17$ and then taking the minimum.\n",
        "\n",
        "In the backward (first iteration) approach, we calculated all features but one (for example without the first one we get $J_2 + J_3 + \\dots + J_{17}$) and removing the feature with the highest cost.\n",
        "\n",
        "In the end, the results should be the same, it's much faster to do forward because we need only 4 features but if we needed to calculate 15 features backward approach is preferred.\n",
        "\n",
        "On the logical side of our sense, features like size, water-front, location, and grade are very much reasonable to determine the house pricing."
      ]
    },
    {
      "cell_type": "markdown",
      "metadata": {
        "id": "E1wiw-cnERIm"
      },
      "source": [
        "## Part 4: Adaptive Learning Rate (10 points)\n",
        "\n",
        "So far, we kept the learning rate alpha constant during training. However, changing alpha during training might improve convergence in terms of the global minimum found and running time. Implement the adaptive learning rate method based on the gradient descent algorithm above. \n",
        "\n",
        "**Your task is to find proper hyper-parameter values for the adaptive technique and compare this technique to the constant learning rate. Use clear visualizations of the validation loss and the learning rate as a function of the iteration**. \n",
        "\n",
        "Time based decay: this method reduces the learning rate every iteration according to the following formula:\n",
        "\n",
        "$$\\alpha = \\frac{\\alpha_0}{1 + D \\cdot t}$$\n",
        "\n",
        "Where $\\alpha_0$ is the original learning rate, $D$ is a decay factor and $t$ is the current iteration."
      ]
    },
    {
      "cell_type": "code",
      "metadata": {
        "id": "-jYY-tSQ8D-E"
      },
      "source": [
        "def efficient_gradient_descent_with_decay(X: np.ndarray, y: np.ndarray, theta: np.ndarray, alpha_0: float, decay: float, num_iters: int) -> (np.ndarray, np.ndarray, np.ndarray):\n",
        "    \"\"\"\n",
        "    Learn the parameters of your model using the *training set*, but stop \n",
        "    the learning process once the improvement of the loss value is smaller \n",
        "    than 1e-8. This function is very similar to the gradient descent \n",
        "    function you already implemented.\n",
        "\n",
        "    Input:\n",
        "    - X: Inputs  (n features over m instances).\n",
        "    - y: True labels (1 value over m instances).\n",
        "    - theta: The parameters (weights) of the model being learned.\n",
        "    - alpha: The learning rate of your model.\n",
        "    - num_iters: The number of updates performed.\n",
        "\n",
        "    Returns two values:\n",
        "    - theta: The learned parameters of your model.\n",
        "    - J_history: the loss value for every iteration.\n",
        "    \"\"\"\n",
        "    X = X.copy()\n",
        "    y = y.copy()\n",
        "\n",
        "    J_history = [] # Use a python list to save cost in every iteration\n",
        "    alpha_history = []\n",
        "    theta = theta.copy() # avoid changing the original thetas\n",
        "    ###########################################################################\n",
        "    # TODO: Implement the gradient descent optimization algorithm.            #\n",
        "    ###########################################################################\n",
        "    m = y.shape[0]\n",
        "    for i in range(num_iters):\n",
        "        alpha = alpha_0 / (1 + decay * i)\n",
        "        alpha_history.append(alpha)\n",
        "        J_history.append(compute_cost(X=X, y=y, theta=theta))\n",
        "        theta = theta - (alpha / m) * np.matmul(X.T, np.matmul(X, theta.T) - y)\n",
        "\n",
        "        if i > 0 and J_history[i-1] - J_history[i]  < 1e-8:\n",
        "            break\n",
        "    ###########################################################################\n",
        "    #                             END OF YOUR CODE                            #\n",
        "    ###########################################################################\n",
        "    return theta, np.array(J_history), np.array(alpha_history)"
      ],
      "execution_count": 94,
      "outputs": []
    },
    {
      "cell_type": "code",
      "metadata": {
        "id": "fFNE4qIH9F1E"
      },
      "source": [
        "def find_best_decay(X_train: np.ndarray, y_train: np.ndarray, X_val: np.ndarray, y_val: np.ndarray, iterations: int) -> dict:\n",
        "    \"\"\"\n",
        "    Iterate over provided values of alpha and train a model using the \n",
        "    *training* dataset. maintain a python dictionary with alpha as the \n",
        "    key and the loss on the *validation* set as the value.\n",
        "\n",
        "    Input:\n",
        "    - X_train, y_train, X_val, y_val: the training and validation data\n",
        "    - iterations: maximum number of iterations\n",
        "\n",
        "    Returns:\n",
        "    - decays_dict: A python dictionary - {key (decay) : value (validation loss)}\n",
        "    \"\"\"\n",
        "    \n",
        "    X_train = X_train.copy()\n",
        "    y_train = y_train.copy()\n",
        "    X_val = X_val.copy()\n",
        "    y_val = y_val.copy()\n",
        "    \n",
        "    alphas = [1, 0.5, 0.1, 0.05, 0.01]\n",
        "    decays = [0.1 / np.power(10, x) for x in range(10)] + [0, 1]\n",
        "    res_dict = {}\n",
        "    ###########################################################################\n",
        "    # TODO: Implement the function.                                           #\n",
        "    ###########################################################################\n",
        "    np.random.seed(42)\n",
        "    theta_rnd = np.random.random(size=X_train.shape[1])\n",
        "    for alpha in alphas:\n",
        "        for decay in decays:\n",
        "            theta, J_history, alpha_history = efficient_gradient_descent_with_decay(X=X_train ,y=y_train, theta=theta_rnd, alpha_0=alpha, decay=decay, num_iters=iterations)\n",
        "            res_dict.update({f'{alpha}_{decay}': compute_cost(X=X_val, y=y_val, theta=theta)})\n",
        "    ###########################################################################\n",
        "    #                             END OF YOUR CODE                            #\n",
        "    ###########################################################################\n",
        "    return res_dict"
      ],
      "execution_count": 95,
      "outputs": []
    },
    {
      "cell_type": "code",
      "metadata": {
        "id": "zIWMiXLl8Svj"
      },
      "source": [
        "res_dict = find_best_decay(X_train=X_train, y_train=y_train, X_val=X_val, y_val=y_val, iterations=40000)"
      ],
      "execution_count": 96,
      "outputs": []
    },
    {
      "cell_type": "code",
      "metadata": {
        "colab": {
          "base_uri": "https://localhost:8080/",
          "height": 35
        },
        "id": "gcZIS64L_oMc",
        "outputId": "4080704f-0f60-4418-be05-8a35d0289fc7"
      },
      "source": [
        "min(res_dict, key=res_dict.get)"
      ],
      "execution_count": 97,
      "outputs": [
        {
          "output_type": "execute_result",
          "data": {
            "application/vnd.google.colaboratory.intrinsic+json": {
              "type": "string"
            },
            "text/plain": [
              "'0.1_0.01'"
            ]
          },
          "metadata": {
            "tags": []
          },
          "execution_count": 97
        }
      ]
    },
    {
      "cell_type": "markdown",
      "metadata": {
        "id": "EG5O1Trr12wn"
      },
      "source": [
        "Alpha = 0.1\n",
        "\n",
        "Decay = 0.01"
      ]
    },
    {
      "cell_type": "code",
      "metadata": {
        "id": "TNAPM7wnCllw"
      },
      "source": [
        "np.random.seed(42)\n",
        "theta_rnd = np.random.random(size=X_train.shape[1])\n",
        "theta, J_history, alpha_history = efficient_gradient_descent_with_decay(X=X_train ,y=y_train, theta=theta_rnd, alpha_0=0.1, decay=0.01, num_iters=40000)"
      ],
      "execution_count": 98,
      "outputs": []
    },
    {
      "cell_type": "code",
      "metadata": {
        "colab": {
          "base_uri": "https://localhost:8080/"
        },
        "id": "3PxbeCka19NT",
        "outputId": "a41e2c73-cc93-47ac-94a2-6333bf86082b"
      },
      "source": [
        "min(J_history)"
      ],
      "execution_count": 99,
      "outputs": [
        {
          "output_type": "execute_result",
          "data": {
            "text/plain": [
              "0.15282859200536042"
            ]
          },
          "metadata": {
            "tags": []
          },
          "execution_count": 99
        }
      ]
    },
    {
      "cell_type": "code",
      "metadata": {
        "id": "Nzv0Gb002rh-"
      },
      "source": [
        "plt.rcParams['figure.figsize'] = (14.0, 8.0) # set default size of plots\n",
        "iter = np.arange(len(J_history))"
      ],
      "execution_count": 100,
      "outputs": []
    },
    {
      "cell_type": "code",
      "metadata": {
        "colab": {
          "base_uri": "https://localhost:8080/",
          "height": 531
        },
        "id": "0RhLKjf72BVW",
        "outputId": "8d9dda78-476d-4e94-89fe-79140700786d"
      },
      "source": [
        "plt.plot(iter, J_history)\n",
        "plt.xscale('log')\n",
        "plt.xlabel('Iterations', fontsize=16)\n",
        "plt.ylabel('Loss', fontsize=16)\n",
        "plt.title('Loss as a function of iterations', fontsize=24, fontweight='bold', color='salmon')\n",
        "plt.hlines(y = J_pinv, xmin = 0, xmax = len(J_history), color='r',\n",
        "           linewidth = 1, linestyle = 'dashed')\n",
        "plt.show()"
      ],
      "execution_count": 101,
      "outputs": [
        {
          "output_type": "display_data",
          "data": {
            "image/png": "[encoded data removed]",
            "text/plain": [
              "<Figure size 1008x576 with 1 Axes>"
            ]
          },
          "metadata": {
            "tags": [],
            "needs_background": "light"
          }
        }
      ]
    },
    {
      "cell_type": "code",
      "metadata": {
        "colab": {
          "base_uri": "https://localhost:8080/",
          "height": 531
        },
        "id": "fchcZdRX2UW_",
        "outputId": "8dc50e5a-0a18-489b-c15a-6975dd3dad9e"
      },
      "source": [
        "plt.plot(iter, alpha_history)\n",
        "plt.xscale('log')\n",
        "plt.xlabel('Iterations', fontsize=16)\n",
        "plt.ylabel('Alpha', fontsize=16)\n",
        "plt.title('Alpha as a function of iterations', fontsize=24, fontweight='bold', color='salmon')\n",
        "plt.show()"
      ],
      "execution_count": 102,
      "outputs": [
        {
          "output_type": "display_data",
          "data": {
            "image/png": "[encoded data removed]",
            "text/plain": [
              "<Figure size 1008x576 with 1 Axes>"
            ]
          },
          "metadata": {
            "tags": [],
            "needs_background": "light"
          }
        }
      ]
    }
  ]
}