{
  "nbformat": 4,
  "nbformat_minor": 0,
  "metadata": {
    "celltoolbar": "Create Assignment",
    "kernelspec": {
      "display_name": "Python 3",
      "language": "python",
      "name": "python3"
    },
    "language_info": {
      "codemirror_mode": {
        "name": "ipython",
        "version": 3
      },
      "file_extension": ".py",
      "mimetype": "text/x-python",
      "name": "python",
      "nbconvert_exporter": "python",
      "pygments_lexer": "ipython3",
      "version": "3.7.3"
    },
    "colab": {
      "name": "hwa2_313581654_316298876.ipynb",
      "provenance": [],
      "collapsed_sections": [],
      "toc_visible": true
    }
  },
  "cells": [
    {
      "cell_type": "markdown",
      "metadata": {
        "nbgrader": {
          "grade": false,
          "grade_id": "cell-6bd0516e7cb654f5",
          "locked": true,
          "schema_version": 1,
          "solution": false
        },
        "id": "IixBSLt1bbBm"
      },
      "source": [
        "# Exercise 2: Decision Trees\n",
        "\n",
        "In this assignment you will implement a Decision Tree algorithm as learned in class.\n",
        "\n",
        "## Read the following instructions carefully:\n",
        "\n",
        "1. This jupyter notebook contains all the step by step instructions needed for this exercise.\n",
        "1. Submission includes this notebook only with the exercise number and your ID as the filename. For example: `hw2_123456789_987654321.ipynb` if you submitted in pairs and `hw2_123456789.ipynb` if you submitted the exercise alone.\n",
        "1. Write **efficient vectorized** code whenever possible. Some calculations in this exercise take several minutes when implemented efficiently, and might take much longer otherwise. Unnecessary loops will result in point deduction.\n",
        "1. You are responsible for the correctness of your code and should add as many tests as you see fit. Tests will not be graded nor checked.\n",
        "1. Write your functions in this notebook only. **Do not create Python modules and import them**.\n",
        "1. You are allowed to use functions and methods from the [Python Standard Library](https://docs.python.org/3/library/) and [numpy](https://www.numpy.org/devdocs/reference/) only. **Do not import anything else.**\n",
        "1. Your code must run without errors. Make sure your `numpy` version is at least 1.15.4 and that you are using at least python 3.6. Changes of the configuration we provided are at your own risk. Any code that cannot run will not be graded.\n",
        "1. Write your own code. Cheating will not be tolerated.\n",
        "1. Answers to qualitative questions should be written in **markdown** cells (with $\\LaTeX$ support). Answers that will be written in commented code blocks will not be checked.\n",
        "\n",
        "## In this exercise you will perform the following:\n",
        "1. Practice OOP in python.\n",
        "2. Implement two impurity measures: Gini and Entropy.\n",
        "3. Construct a decision tree algorithm.\n",
        "4. Prune the tree to achieve better results.\n",
        "5. Visualize your results."
      ]
    },
    {
      "cell_type": "markdown",
      "metadata": {
        "id": "C8uObaxSbbBr"
      },
      "source": [
        "# I have read and understood the instructions: *** 313581654 316298876 ***"
      ]
    },
    {
      "cell_type": "code",
      "metadata": {
        "nbgrader": {
          "grade": false,
          "grade_id": "cell-ed9fe7b1026e33cb",
          "locked": true,
          "schema_version": 1,
          "solution": false
        },
        "id": "ZaySYKUubbBs"
      },
      "source": [
        "import numpy as np\n",
        "import pandas as pd\n",
        "import matplotlib.pyplot as plt\n",
        "\n",
        "# make matplotlib figures appear inline in the notebook\n",
        "%matplotlib inline\n",
        "plt.rcParams['figure.figsize'] = (14.0, 10.0) # set default size of plots\n",
        "plt.rcParams['image.interpolation'] = 'nearest'\n",
        "plt.rcParams['image.cmap'] = 'gray'\n",
        "\n",
        "# Ignore warnings\n",
        "import warnings\n",
        "warnings.filterwarnings('ignore')"
      ],
      "execution_count": 104,
      "outputs": []
    },
    {
      "cell_type": "markdown",
      "metadata": {
        "nbgrader": {
          "grade": false,
          "grade_id": "cell-c6ac605270c2b091",
          "locked": true,
          "schema_version": 1,
          "solution": false
        },
        "id": "YnSPOODtbbBs"
      },
      "source": [
        "## Warmup - OOP in python\n",
        "\n",
        "Our desicion tree will be implemented using a dedicated python class. Python classes are very similar to classes in Java.\n",
        "\n",
        "\n",
        "You can use the following [site](https://jeffknupp.com/blog/2014/06/18/improve-your-python-python-classes-and-object-oriented-programming/) to learn about classes in python."
      ]
    },
    {
      "cell_type": "code",
      "metadata": {
        "id": "F-Ya0EoWbbBt"
      },
      "source": [
        "class Node(object):\n",
        "    def __init__(self, data):\n",
        "        self.data = data\n",
        "        self.children = []\n",
        "\n",
        "    def add_child(self, node):\n",
        "        self.children.append(node)"
      ],
      "execution_count": 105,
      "outputs": []
    },
    {
      "cell_type": "code",
      "metadata": {
        "colab": {
          "base_uri": "https://localhost:8080/"
        },
        "id": "tpjmmMgTbbBt",
        "outputId": "0dad1923-8ca1-4c0b-d68e-0e4e5f85c8bf"
      },
      "source": [
        "n = Node(5)\n",
        "p = Node(6)\n",
        "q = Node(7)\n",
        "n.add_child(p)\n",
        "n.add_child(q)\n",
        "n.children"
      ],
      "execution_count": 106,
      "outputs": [
        {
          "output_type": "execute_result",
          "data": {
            "text/plain": [
              "[<__main__.Node at 0x7f72f651e250>, <__main__.Node at 0x7f72f651e7d0>]"
            ]
          },
          "metadata": {
            "tags": []
          },
          "execution_count": 106
        }
      ]
    },
    {
      "cell_type": "markdown",
      "metadata": {
        "nbgrader": {
          "grade": false,
          "grade_id": "cell-2f1ceb251c649b62",
          "locked": true,
          "schema_version": 1,
          "solution": false
        },
        "id": "AcdxQv_ebbBt"
      },
      "source": [
        "## Data preprocessing\n",
        "\n",
        "For the following exercise, we will use a dataset containing mushroom data `agaricus-lepiota.csv`. \n",
        "\n",
        "This data set includes descriptions of hypothetical samples corresponding to 23 species of gilled mushrooms in the Agaricus and Lepiota Family. Each species is identified as definitely edible, definitely poisonous, or of unknown edibility and not recommended. This latter class was combined with the poisonous\n",
        "one (=there are only two classes **edible** and **poisonous**). \n",
        "    \n",
        "The dataset contains 8124 observations with 22 features:\n",
        "1. cap-shape: bell=b,conical=c,convex=x,flat=f,knobbed=k,sunken=s\n",
        "2. cap-surface: fibrous=f,grooves=g,scaly=y,smooth=s\n",
        "3. cap-color: brown=n,buff=b,cinnamon=c,gray=g,green=r,pink=p,purple=u,red=e,white=w,yellow=y\n",
        "4. bruises: bruises=t,no=f\n",
        "5. odor: almond=a,anise=l,creosote=c,fishy=y,foul=f, musty=m,none=n,pungent=p,spicy=s\n",
        "6. gill-attachment: attached=a,descending=d,free=f,notched=n\n",
        "7. gill-spacing: close=c,crowded=w,distant=d\n",
        "8. gill-size: broad=b,narrow=n\n",
        "9. gill-color: black=k,brown=n,buff=b,chocolate=h,gray=g,green=r,orange=o,pink=p,purple=u,red=e,white=w,yellow=y\n",
        "10. stalk-shape: enlarging=e,tapering=t\n",
        "11. stalk-root: bulbous=b,club=c,cup=u,equal=e,rhizomorphs=z,rooted=r\n",
        "12. stalk-surface-above-ring: fibrous=f,scaly=y,silky=k,smooth=s\n",
        "13. stalk-surface-below-ring: fibrous=f,scaly=y,silky=k,smooth=s\n",
        "14. stalk-color-above-ring: brown=n,buff=b,cinnamon=c,gray=g,orange=o,pink=p,red=e,white=w,yellow=y\n",
        "15. stalk-color-below-ring: brown=n,buff=b,cinnamon=c,gray=g,orange=o,pink=p,red=e,white=w,yellow=y\n",
        "16. veil-type: partial=p,universal=u\n",
        "17. veil-color: brown=n,orange=o,white=w,yellow=y\n",
        "18. ring-number: none=n,one=o,two=t\n",
        "19. ring-type: cobwebby=c,evanescent=e,flaring=f,large=l,none=n,pendant=p,sheathing=s,zone=z\n",
        "20. spore-print-color: black=k,brown=n,buff=b,chocolate=h,green=r,orange=o,purple=u,white=w,yellow=y\n",
        "21. population: abundant=a,clustered=c,numerous=n,scattered=s,several=v,solitary=y\n",
        "22. habitat: grasses=g,leaves=l,meadows=m,paths=p,urban=u,waste=w,woods=d\n",
        "\n",
        "First, we will read and explore the data using pandas and the `.read_csv` method. Pandas is an open source library providing high-performance, easy-to-use data structures and data analysis tools for the Python programming language."
      ]
    },
    {
      "cell_type": "code",
      "metadata": {
        "nbgrader": {
          "grade": false,
          "grade_id": "cell-d79cb4542926ad3f",
          "locked": true,
          "schema_version": 1,
          "solution": false
        },
        "id": "C1Dh37UjbbBu"
      },
      "source": [
        "# load dataset\n",
        "data = pd.read_csv('agaricus-lepiota.csv')"
      ],
      "execution_count": 107,
      "outputs": []
    },
    {
      "cell_type": "markdown",
      "metadata": {
        "id": "LZUcyRinbbBu"
      },
      "source": [
        "One of the advantages of the Decision Tree algorithm is that almost no preprocessing is required. However, finding missing values is always required."
      ]
    },
    {
      "cell_type": "code",
      "metadata": {
        "id": "ED8o5qyebbBu"
      },
      "source": [
        "#############################################################################\n",
        "# TODO: Find the columns with missing values and remove them from the data.#\n",
        "#############################################################################\n",
        "\n",
        "#There is not any of missing values, but if there is any missing values...\n",
        "data.dropna(axis = 1, inplace=True)\n",
        "\n",
        "#############################################################################\n",
        "#                             END OF YOUR CODE                              #\n",
        "#############################################################################"
      ],
      "execution_count": 108,
      "outputs": []
    },
    {
      "cell_type": "markdown",
      "metadata": {
        "id": "SXkEi_KJbbBu"
      },
      "source": [
        "We will split the dataset to `Training` and `Testing` datasets."
      ]
    },
    {
      "cell_type": "code",
      "metadata": {
        "colab": {
          "base_uri": "https://localhost:8080/"
        },
        "id": "xPTUEpUCbbBw",
        "outputId": "b198d699-a04b-41bf-ce0c-d7ed209238c9"
      },
      "source": [
        "from sklearn.model_selection import train_test_split\n",
        "# Making sure the last column will hold the labels\n",
        "X, y = data.drop('class', axis=1), data['class']\n",
        "X = np.column_stack([X, y])\n",
        "# split dataset using random_state to get the same split each time\n",
        "X_train, X_test = train_test_split(X, random_state=99)\n",
        "\n",
        "print(\"Training dataset shape: \", X_train.shape)\n",
        "print(\"Testing dataset shape: \", X_test.shape)"
      ],
      "execution_count": 109,
      "outputs": [
        {
          "output_type": "stream",
          "text": [
            "Training dataset shape:  (6093, 22)\n",
            "Testing dataset shape:  (2031, 22)\n"
          ],
          "name": "stdout"
        }
      ]
    },
    {
      "cell_type": "code",
      "metadata": {
        "colab": {
          "base_uri": "https://localhost:8080/"
        },
        "id": "FeieXKg8bbBx",
        "outputId": "7f84a347-a9e7-4b28-a25b-e98076540faa"
      },
      "source": [
        "y.shape"
      ],
      "execution_count": 110,
      "outputs": [
        {
          "output_type": "execute_result",
          "data": {
            "text/plain": [
              "(8124,)"
            ]
          },
          "metadata": {
            "tags": []
          },
          "execution_count": 110
        }
      ]
    },
    {
      "cell_type": "markdown",
      "metadata": {
        "nbgrader": {
          "grade": false,
          "grade_id": "cell-fd7b0191f3f1e897",
          "locked": true,
          "schema_version": 1,
          "solution": false
        },
        "id": "zWayHabDbbBx"
      },
      "source": [
        "## Impurity Measures\n",
        "\n",
        "Impurity is a measure of how often a randomly chosen element from the set would be incorrectly labeled if it was randomly labeled according to the distribution of labels in the subset. Implement the functions `calc_gini` and `calc_entropy`. You are encouraged to test your implementation (10 points)."
      ]
    },
    {
      "cell_type": "code",
      "metadata": {
        "id": "hZHdlZ60bbBx"
      },
      "source": [
        "def calc_gini(data: np.ndarray) -> float:\n",
        "    \"\"\"\n",
        "    Calculate gini impurity measure of a dataset.\n",
        "\n",
        "    Input:\n",
        "    - data: any dataset where the last column holds the labels.\n",
        "\n",
        "    Returns the gini impurity.\n",
        "    \"\"\"\n",
        "    gini = 0.0\n",
        "    ###########################################################################\n",
        "    #\n",
        "    ###########################################################################\n",
        "\n",
        "    vals_count = np.unique(data[:, -1], return_counts=True)[1]\n",
        "    probs = vals_count / data.shape[0]\n",
        "    gini = 1 - np.sum(np.power(probs, 2))\n",
        "\n",
        "    ###########################################################################\n",
        "    #                             END OF YOUR CODE                            #\n",
        "    ###########################################################################\n",
        "    return gini"
      ],
      "execution_count": 111,
      "outputs": []
    },
    {
      "cell_type": "code",
      "metadata": {
        "id": "c0g3kl9ebbBx"
      },
      "source": [
        "def calc_entropy(data: np.ndarray) -> float:\n",
        "    \"\"\"\n",
        "    Calculate the entropy of a dataset.\n",
        "\n",
        "    Input:\n",
        "    - data: any dataset where the last column holds the labels.\n",
        "\n",
        "    Returns the entropy of the dataset.\n",
        "    \"\"\"\n",
        "    entropy = 0.0\n",
        "    ###########################################################################\n",
        "    #\n",
        "    ###########################################################################\n",
        "\n",
        "    vals_count = np.unique(data[:, -1], return_counts=True)[1]\n",
        "    probs = vals_count / data.shape[0]\n",
        "    entropy = -np.sum(probs * np.log2(probs))\n",
        "\n",
        "    ###########################################################################\n",
        "    #                             END OF YOUR CODE                            #\n",
        "    ###########################################################################\n",
        "    return entropy"
      ],
      "execution_count": 112,
      "outputs": []
    },
    {
      "cell_type": "code",
      "metadata": {
        "scrolled": true,
        "id": "HCuX1_TmbbBy",
        "colab": {
          "base_uri": "https://localhost:8080/"
        },
        "outputId": "a5967f65-a322-4884-884c-4a4f7a5ff317"
      },
      "source": [
        "##### Your Tests Here #####\n",
        "calc_gini(X), calc_entropy(X)"
      ],
      "execution_count": 113,
      "outputs": [
        {
          "output_type": "execute_result",
          "data": {
            "text/plain": [
              "(0.4995636322379775, 0.9993703627906085)"
            ]
          },
          "metadata": {
            "tags": []
          },
          "execution_count": 113
        }
      ]
    },
    {
      "cell_type": "markdown",
      "metadata": {
        "id": "olApYANLbbBy"
      },
      "source": [
        "## Goodness of Split\n",
        "\n",
        "Given a feature the Goodnees of Split measures the reduction in the impurity if we split the data according to the feature.\n",
        "$$\n",
        "\\Delta\\varphi(S, A) = \\varphi(S) - \\sum_{v\\in Values(A)} \\frac{|S_v|}{|S|}\\varphi(S_v)\n",
        "$$\n",
        "\n",
        "In our implementation the goodness_of_split function will return either the Goodness of Split or the Gain Ratio as learned in class. You'll control the return value with the `gain_ratio` parameter. If this parameter will set to False (the default value) it will return the regular Goodness of Split. If it will set to True it will return the Gain Ratio.\n",
        "$$\n",
        "GainRatio(S,A)=\\frac{InformationGain(S,A)}{SplitInformation(S,A)}\n",
        "$$\n",
        "Where:\n",
        "$$\n",
        "InformationGain(S,A)=Goodness\\ of\\ Split\\ calculated\\ with\\ Entropy\\ as\\ the\\ Impurity\\ function \\\\\n",
        "SplitInformation(S,A)=- \\sum_{a\\in A} \\frac{|S_a|}{|S|}\\log\\frac{|S_a|}{|S|}\n",
        "$$\n",
        "NOTE: you can add more parameters to the function and you can also add more returning variables (The given parameters and the given returning variable should not be touch). (10 Points)"
      ]
    },
    {
      "cell_type": "code",
      "metadata": {
        "id": "BDEY0ItAbbBy"
      },
      "source": [
        "def goodness_of_split(data: np.ndarray, feature: int, impurity_func, gain_ratio: bool = False) -> float:\n",
        "    \"\"\"\n",
        "    Calculate the goodness of split of a dataset given a feature and impurity function.\n",
        "\n",
        "    Input:\n",
        "    - data: any dataset where the last column holds the labels.\n",
        "    - feature: the feature index.\n",
        "    - impurity func: a function that calculates the impurity.\n",
        "    - gain_ratio: goodness of split or gain ratio flag.\n",
        "\n",
        "    Returns the goodness of split (or the Gain Ration).\n",
        "    \"\"\"\n",
        "    ###########################################################################\n",
        "    #\n",
        "    ###########################################################################\n",
        "\n",
        "    # Trim the relative data\n",
        "    if gain_ratio:\n",
        "        impurity_func = calc_entropy\n",
        "\n",
        "    _data = data[:, [feature, -1]]\n",
        "\n",
        "    # Sorting by feature's values\n",
        "    _data_sorted = _data[_data[:, 0].argsort()]\n",
        "\n",
        "    # Count feature's values\n",
        "    _data_uniques_count = np.unique(_data_sorted[:, 0], return_counts=True)[1]\n",
        "\n",
        "    # Split our relevant data by feature's values (output: labels)\n",
        "    _data_split_by_feature_vals = np.split(_data_sorted[:, -1], np.cumsum(_data_uniques_count)[:-1])\n",
        "\n",
        "    # Calculate impurities for each of the values of the feature\n",
        "    impurities = np.array(list(map(lambda x: impurity_func(x[:, None]), _data_split_by_feature_vals)))\n",
        "\n",
        "    # Calculate impurity of the relative data\n",
        "    impurity = impurity_func(_data)\n",
        "\n",
        "    # Calculate goodness :)\n",
        "    goodness = impurity - np.sum((_data_uniques_count / _data.shape[0]) * impurities)\n",
        "\n",
        "    if gain_ratio:\n",
        "        # If the shape equlas to 1 -> calc_entropy will return 0 -> goodness be nan -> error on building tree function\n",
        "        if _data_uniques_count.shape[0] == 1:\n",
        "            goodness = 0\n",
        "        else:\n",
        "            split_info = calc_entropy(_data[:, 0][:, None])\n",
        "            goodness /= split_info\n",
        "\n",
        "    ###########################################################################\n",
        "    #                             END OF YOUR CODE                            #\n",
        "    ###########################################################################\n",
        "    return goodness"
      ],
      "execution_count": 114,
      "outputs": []
    },
    {
      "cell_type": "markdown",
      "metadata": {
        "id": "avbd9xW9bbBy"
      },
      "source": [
        "## Building a Decision Tree\n",
        "\n",
        "Use a Python class to construct the decision tree. Your class should support the following functionality:\n",
        "\n",
        "1. Initiating a node for a decision tree. You will need to use several class methods and class attributes and you are free to use them as you see fit. We recommend that every node will hold the feature and value used for the split and its children.\n",
        "2. Your code should support both Gini and Entropy as impurity measures. \n",
        "3. The provided data includes categorical data. In this exercise, when splitting a node create the number of children needed according to the attribute unique values.\n",
        "\n",
        "Complete the class `DecisionNode`. The structure of this class is entirely up to you. \n",
        "\n",
        "Complete the function `build_tree`. This function should get the training dataset and the impurity as inputs, initiate a root for the decision tree and construct the tree according to the procedure you learned in class. (30 points)"
      ]
    },
    {
      "cell_type": "code",
      "metadata": {
        "id": "civKENHJbbBy"
      },
      "source": [
        "class DecisionNode:\n",
        "    \"\"\"\n",
        "    This class will hold everything you require to construct a decision tree.\n",
        "    The structure of this class is up to you. However, you need to support basic\n",
        "    functionality as described above. It is highly recommended that you\n",
        "    first read and understand the entire exercise before diving into this class.\n",
        "    \"\"\"\n",
        "\n",
        "    def __init__(self,\n",
        "                 feature: int,\n",
        "                 parent_splitter_value: float = None,\n",
        "                 label: str = None,\n",
        "                 depth: int = None,\n",
        "                 data: np.ndarray = None):\n",
        "        self.feature = feature  # column index of criteria being tested\n",
        "        self.parent_splitter_value = parent_splitter_value\n",
        "        self.label = label\n",
        "        self.depth = depth\n",
        "        self.data = data.copy()\n",
        "\n",
        "        self.children_values = {}\n",
        "        self.children = []\n",
        "        self.parent = None\n",
        "\n",
        "    def add_child(self, node):\n",
        "        self.children.append(node)\n",
        "        self.children_values.update({\n",
        "            node.parent_splitter_value: self.children[-1]\n",
        "        })\n",
        "        \n",
        "        node.parent = self\n",
        "\n",
        "    def is_leaf(self) -> bool:\n",
        "        return len(self.children) == 0"
      ],
      "execution_count": 115,
      "outputs": []
    },
    {
      "cell_type": "code",
      "metadata": {
        "id": "9ICBxQODbbBz"
      },
      "source": [
        "def build_tree(data: np.ndarray, impurity, gain_ratio: bool = False, chi: float = 1,\n",
        "               max_depth: int = 1000, parent_splitter_value: str = None, node_depth: int = 0,\n",
        "               p_value: float = 1) -> DecisionNode:\n",
        "    \"\"\"\n",
        "    Build a tree using the given impurity measure and training dataset.\n",
        "    You are required to fully grow the tree until all leaves are pure.\n",
        "\n",
        "    Input:\n",
        "    - data: the training dataset.\n",
        "    - impurity: the chosen impurity measure. Notice that you can send a function\n",
        "                as an argument in python.\n",
        "    - gain_ratio: goodness of split or gain ratio flag\n",
        "    - chi: chi square p-value cut off (1 means no pruning)\n",
        "    - max_depth: the allowable depth of the tree\n",
        "\n",
        "    Output: the root node of the tree.\n",
        "    \"\"\"\n",
        "    root = None\n",
        "    ###########################################################################\n",
        "    #\n",
        "    ###########################################################################\n",
        "\n",
        "    node_impurity = impurity(data)\n",
        "\n",
        "    labels, label_counts = np.unique(data[:, -1], return_counts=True)\n",
        "    label_max = labels[np.argmax(label_counts)]\n",
        "\n",
        "    goodnesses = [goodness_of_split(data=data,\n",
        "                                    feature=f_idx,\n",
        "                                    impurity_func=impurity,\n",
        "                                    gain_ratio=gain_ratio)\n",
        "                  for f_idx in range(data.shape[1] - 1)]\n",
        "\n",
        "    max_feature_idx = np.argmax(goodnesses)\n",
        "\n",
        "    iszero_impurity = np.isclose(node_impurity, 0)\n",
        "    iszero_max_feature_goodness = np.isclose(goodnesses[max_feature_idx], 0)\n",
        "\n",
        "    prune_chi_square = False\n",
        "    if chi and 1 > p_value:\n",
        "        chi_square = get_chi_square(dataset=data, feature=max_feature_idx)\n",
        "\n",
        "        num_of_vals = len(np.unique(data[:, max_feature_idx]))\n",
        "        # degree_of_freedom = 2 --> 1 * (num_of_vals - 1)\n",
        "        degree_of_freedom = num_of_vals - 1\n",
        "        if degree_of_freedom > 0:\n",
        "            prune_chi_square = chi_square <= chi_table.get(degree_of_freedom).get(p_value)\n",
        "\n",
        "    if iszero_impurity or iszero_max_feature_goodness or node_depth > max_depth or prune_chi_square:\n",
        "        return DecisionNode(feature=None,\n",
        "                            parent_splitter_value=parent_splitter_value,\n",
        "                            label=label_max,\n",
        "                            depth=node_depth,\n",
        "                            data=data)\n",
        "\n",
        "    root = DecisionNode(feature=max_feature_idx,\n",
        "                        parent_splitter_value=parent_splitter_value,\n",
        "                        label=label_max,\n",
        "                        depth=node_depth,\n",
        "                        data=data)\n",
        "\n",
        "    unique_vals = np.unique(data[:, max_feature_idx])\n",
        "    for unique_val in unique_vals:\n",
        "        child_data = data[data[:, max_feature_idx] == unique_val]\n",
        "        child = build_tree(data=child_data,\n",
        "                           impurity=impurity,\n",
        "                           gain_ratio=gain_ratio,\n",
        "                           chi=chi,\n",
        "                           max_depth=max_depth,\n",
        "                           parent_splitter_value=unique_val,\n",
        "                           node_depth=node_depth + 1,\n",
        "                           p_value=p_value)\n",
        "\n",
        "        root.add_child(node=child)\n",
        "\n",
        "    ###########################################################################\n",
        "    #                             END OF YOUR CODE                            #\n",
        "    ###########################################################################\n",
        "    return root"
      ],
      "execution_count": 116,
      "outputs": []
    },
    {
      "cell_type": "code",
      "metadata": {
        "id": "yX1Nnm9ybbBz"
      },
      "source": [
        "# python supports passing a function as an argument to another function.\n",
        "tree_gini = build_tree(data=X_train, impurity=calc_gini) # gini and goodness of split\n",
        "tree_entropy = build_tree(data=X_train, impurity=calc_entropy) # entropy and goodness of split\n",
        "tree_entropy_gain_ratio = build_tree(data=X_train, impurity=calc_entropy, gain_ratio=True) # entropy and gain ratio"
      ],
      "execution_count": 117,
      "outputs": []
    },
    {
      "cell_type": "markdown",
      "metadata": {
        "id": "YwGv0UnhbbBz"
      },
      "source": [
        "## Tree evaluation\n",
        "\n",
        "Complete the functions `predict` and `calc_accuracy`. (10 points)"
      ]
    },
    {
      "cell_type": "code",
      "metadata": {
        "id": "zIewhBetkKZb"
      },
      "source": [
        "def predict(node: DecisionNode, instance: np.ndarray) -> str:\n",
        "    \"\"\"\n",
        "    Predict a given instance using the decision tree\n",
        "\n",
        "    Input:\n",
        "    - root: the root of the decision tree.\n",
        "    - instance: an row vector from the dataset. Note that the last element\n",
        "                of this vector is the label of the instance.\n",
        "\n",
        "    Output: the prediction of the instance.\n",
        "    \"\"\"\n",
        "    pred = None\n",
        "    ###########################################################################\n",
        "\n",
        "    while not node.is_leaf():\n",
        "        att_val = instance[node.feature]\n",
        "\n",
        "        if att_val not in node.children_values:\n",
        "            break\n",
        "\n",
        "        node = node.children_values[att_val]\n",
        "\n",
        "    ###########################################################################\n",
        "    pass\n",
        "    ###########################################################################\n",
        "    #                             END OF YOUR CODE                            #\n",
        "    ###########################################################################\n",
        "    return node.label"
      ],
      "execution_count": 118,
      "outputs": []
    },
    {
      "cell_type": "code",
      "metadata": {
        "id": "Z3QsWWGDbbBz"
      },
      "source": [
        "def calc_accuracy(node: DecisionNode, dataset: np.ndarray) -> float:\n",
        "    \"\"\"\n",
        "    Predict a given dataset using the decision tree\n",
        "\n",
        "    Input:\n",
        "    - node: a node in the decision tree.\n",
        "    - dataset: the dataset on which the accuracy is evaluated\n",
        "\n",
        "    Output: the accuracy of the decision tree on the given dataset (%).\n",
        "    \"\"\"\n",
        "    accuracy = 0\n",
        "    ###########################################################################\n",
        "    #\n",
        "    ###########################################################################\n",
        "\n",
        "    correct = 0\n",
        "    for instance in dataset:\n",
        "        if predict(node=node, instance=instance).__eq__(instance[-1]):\n",
        "            correct += 1\n",
        "\n",
        "    accuracy = (correct / dataset.shape[0]) * 100\n",
        "\n",
        "    ###########################################################################\n",
        "    #                             END OF YOUR CODE                            #\n",
        "    ###########################################################################\n",
        "    return accuracy"
      ],
      "execution_count": 119,
      "outputs": []
    },
    {
      "cell_type": "markdown",
      "metadata": {
        "id": "crzfVWFobbB0"
      },
      "source": [
        "After building the three trees using the training set, you should calculate the accuracy on the test set. For each tree print the training and test accuracy. Select the tree that gave you the best test accuracy. For the rest of the exercise, use that tree (when you asked to build another tree use the same impurity function and same gain_ratio flag). "
      ]
    },
    {
      "cell_type": "code",
      "metadata": {
        "id": "xgjazZCPbbB0",
        "colab": {
          "base_uri": "https://localhost:8080/"
        },
        "outputId": "33e70994-1591-422b-ff4c-87a7cd9f8216"
      },
      "source": [
        "print(\"Tree gini\\t\\t\\tTrain:\",\n",
        "      f'{np.round(calc_accuracy(node=tree_gini, dataset=X_train), 2)}%',\n",
        "      \"Test:\",\n",
        "      f'{np.round(calc_accuracy(node=tree_gini, dataset=X_test), 2)}%')\n",
        "print(\"Tree entropy\\t\\t\\tTrain:\",\n",
        "      f'{np.round(calc_accuracy(node=tree_entropy, dataset=X_train), 2)}%',\n",
        "      \"Test:\",\n",
        "      f'{np.round(calc_accuracy(node=tree_entropy, dataset=X_test), 2)}%')\n",
        "print(\"Tree entropy with gain ratio\\tTrain:\",\n",
        "      f'{np.round(calc_accuracy(node=tree_entropy_gain_ratio, dataset=X_train), 2)}%',\n",
        "      \"Test:\",\n",
        "      f'{np.round(calc_accuracy(node=tree_entropy_gain_ratio, dataset=X_test), 2)}%')"
      ],
      "execution_count": 120,
      "outputs": [
        {
          "output_type": "stream",
          "text": [
            "Tree gini\t\t\tTrain: 99.25% Test: 77.5%\n",
            "Tree entropy\t\t\tTrain: 99.41% Test: 77.25%\n",
            "Tree entropy with gain ratio\tTrain: 99.64% Test: 78.53%\n"
          ],
          "name": "stdout"
        }
      ]
    },
    {
      "cell_type": "markdown",
      "metadata": {
        "id": "hveP_IJUbbB0"
      },
      "source": [
        "## Post pruning\n",
        "\n",
        "Iterate over all nodes in the tree that have at least a single child which is a leaf. For each such node, replace it with its most popular class. Calculate the accuracy on the testing dataset, pick the node that results in the highest testing accuracy and permanently change it in the tree. Repeat this process until you are left with a single node in the tree (the root). Finally, create a plot of the training and testing accuracies as a function of the number of nodes in the tree. (15 points)"
      ]
    },
    {
      "cell_type": "code",
      "metadata": {
        "id": "HkB2kI6uSStp"
      },
      "source": [
        "def count_nodes(node: DecisionNode) -> int:\n",
        "    \"\"\"\n",
        "    Count the number of node in a given tree\n",
        "\n",
        "    Input:\n",
        "    - node: a node in the decision tree.\n",
        "\n",
        "    Output: the number of node in the tree.\n",
        "    \"\"\"\n",
        "    ###########################################################################\n",
        "    # TODO: Implement the function.                                           #\n",
        "    ###########################################################################\n",
        "\n",
        "    if node.is_leaf():\n",
        "        return 1\n",
        "\n",
        "    count = 1\n",
        "    for child in node.children:\n",
        "        count += count_nodes(child)\n",
        "\n",
        "    return count\n",
        "\n",
        "    ###########################################################################\n",
        "    #                             END OF YOUR CODE                            #\n",
        "    ###########################################################################"
      ],
      "execution_count": 121,
      "outputs": []
    },
    {
      "cell_type": "code",
      "metadata": {
        "id": "Jp0LsUn6hbV-"
      },
      "source": [
        "def get_nodes_with_leafs(node: DecisionNode) -> list:\n",
        "    lst = []\n",
        "\n",
        "    for child in node.children:\n",
        "        lst += get_nodes_with_leafs(node=child)\n",
        "\n",
        "    for child in node.children:\n",
        "        if child.is_leaf():\n",
        "            lst += [node]\n",
        "            break\n",
        "\n",
        "    return lst"
      ],
      "execution_count": 122,
      "outputs": []
    },
    {
      "cell_type": "code",
      "metadata": {
        "id": "fUw4to2mbbB0"
      },
      "source": [
        "def post_pruning(node: DecisionNode, test_data: np.ndarray, train_data: np.ndarray) -> (float, int):\n",
        "    counts = [count_nodes(node=node)]\n",
        "    test_acc = [calc_accuracy(node=node, dataset=test_data)]\n",
        "    train_acc = [calc_accuracy(node=node, dataset=train_data)]\n",
        "\n",
        "    while len(node.children) != 0:\n",
        "        nodes_with_leafs = get_nodes_with_leafs(node=node)\n",
        "\n",
        "        accs = []\n",
        "        for idx in range(len(nodes_with_leafs)):\n",
        "            tmp = nodes_with_leafs[idx].children\n",
        "            nodes_with_leafs[idx].children = []\n",
        "\n",
        "            accs.append(calc_accuracy(node=node, dataset=test_data))\n",
        "\n",
        "            nodes_with_leafs[idx].children = tmp\n",
        "\n",
        "        max_idx = np.argmax(accs)\n",
        "        nodes_with_leafs[max_idx].children = []\n",
        "\n",
        "        counts += [count_nodes(node=node)]\n",
        "        test_acc += [accs[max_idx]]\n",
        "        train_acc += [calc_accuracy(node=node, dataset=train_data)]\n",
        "\n",
        "    max_acc = np.max(test_acc)\n",
        "    best_tree_size = counts[np.where(test_acc == max_acc)[0][-1]]\n",
        "\n",
        "    plt.plot(counts, train_acc, label=\"Train Dataset Accuracy\")\n",
        "    plt.plot(counts, test_acc, label=\"Test Dataset Accuracy\")\n",
        "    plt.scatter(best_tree_size, max_acc, color=\"r\", linewidths=20, label=f'The Best Tree! ({best_tree_size})')\n",
        "\n",
        "    plt.title(\"Test, Train Accuracy vs. Nodes Count\", fontsize=24)\n",
        "    plt.xlabel(\"Nodes Count\", fontsize=16)\n",
        "    plt.ylabel(\"Accuracy (percentage)]\", fontsize=16)\n",
        "\n",
        "    plt.legend()\n",
        "    plt.show()\n",
        "\n",
        "    return max_acc, best_tree_size"
      ],
      "execution_count": 123,
      "outputs": []
    },
    {
      "cell_type": "code",
      "metadata": {
        "colab": {
          "base_uri": "https://localhost:8080/",
          "height": 636
        },
        "id": "urEr93xwfKPD",
        "outputId": "d439a576-239f-4eb2-de22-f2b3e04dca06"
      },
      "source": [
        "best_post_pruning_acc, best_post_pruning_tree_size = post_pruning(node=tree_entropy_gain_ratio, test_data=X_test, train_data=X_train)"
      ],
      "execution_count": 124,
      "outputs": [
        {
          "output_type": "display_data",
          "data": {
            "image/png": "[encoded data removed]",
            "text/plain": [
              "<Figure size 1008x720 with 1 Axes>"
            ]
          },
          "metadata": {
            "tags": [],
            "needs_background": "light"
          }
        }
      ]
    },
    {
      "cell_type": "markdown",
      "metadata": {
        "id": "4sq8YoVmbbB0"
      },
      "source": [
        "## Chi square pre-pruning\n",
        "\n",
        "Consider the following p-value cut-off values: [1 (no pruning), 0.5, 0.25, 0.1, 0.05, 0.0001 (max pruning)]. For each value, construct a tree and prune it according to the cut-off value. Next, calculate the training and testing accuracy. On a single plot, draw the training and testing accuracy as a function of the tuple (p-value, tree depth). Mark the best result on the graph with red circle. (15 points)"
      ]
    },
    {
      "cell_type": "code",
      "metadata": {
        "id": "qGfuIoQEbbB1"
      },
      "source": [
        "### Chi square table values ###\n",
        "# The first key is the degree of freedom \n",
        "# The second key is the p-value cut-off\n",
        "# The values are the chi-statistic that you need to use in the pruning\n",
        "chi_table = {1: {0.5 : 0.45,\n",
        "                 0.25 : 1.32,\n",
        "                 0.1 : 2.71,\n",
        "                 0.05 : 3.84,\n",
        "                 0.0001 : 100000},\n",
        "             2: {0.5 : 1.39,\n",
        "                 0.25 : 2.77,\n",
        "                 0.1 : 4.60,\n",
        "                 0.05 : 5.99,\n",
        "                 0.0001 : 100000},\n",
        "             3: {0.5 : 2.37,\n",
        "                 0.25 : 4.11,\n",
        "                 0.1 : 6.25,\n",
        "                 0.05 : 7.82,\n",
        "                 0.0001 : 100000},\n",
        "             4: {0.5 : 3.36,\n",
        "                 0.25 : 5.38,\n",
        "                 0.1 : 7.78,\n",
        "                 0.05 : 9.49,\n",
        "                 0.0001 : 100000},\n",
        "             5: {0.5 : 4.35,\n",
        "                 0.25 : 6.63,\n",
        "                 0.1 : 9.24,\n",
        "                 0.05 : 11.07,\n",
        "                 0.0001 : 100000},\n",
        "             6: {0.5 : 5.35,\n",
        "                 0.25 : 7.84,\n",
        "                 0.1 : 10.64,\n",
        "                 0.05 : 12.59,\n",
        "                 0.0001 : 100000},\n",
        "             7: {0.5 : 6.35,\n",
        "                 0.25 : 9.04,\n",
        "                 0.1 : 12.01,\n",
        "                 0.05 : 14.07,\n",
        "                 0.0001 : 100000},\n",
        "             8: {0.5 : 7.34,\n",
        "                 0.25 : 10.22,\n",
        "                 0.1 : 13.36,\n",
        "                 0.05 : 15.51,\n",
        "                 0.0001 : 100000},\n",
        "             9: {0.5 : 8.34,\n",
        "                 0.25 : 11.39,\n",
        "                 0.1 : 14.68,\n",
        "                 0.05 : 16.92,\n",
        "                 0.0001 : 100000},\n",
        "             10: {0.5 : 9.34,\n",
        "                  0.25 : 12.55,\n",
        "                  0.1 : 15.99,\n",
        "                  0.05 : 18.31,\n",
        "                  0.0001 : 100000},\n",
        "             11: {0.5 : 10.34,\n",
        "                  0.25 : 13.7,\n",
        "                  0.1 : 17.27,\n",
        "                  0.05 : 19.68,\n",
        "                  0.0001 : 100000}}"
      ],
      "execution_count": 125,
      "outputs": []
    },
    {
      "cell_type": "code",
      "metadata": {
        "id": "cMow7easUyG5"
      },
      "source": [
        "def get_max_depth(node: DecisionNode) -> int:\n",
        "    if node is None:\n",
        "        return 0\n",
        "    else:\n",
        "        depths = [0]\n",
        "        for child in node.children:\n",
        "            depths.append(get_max_depth(node=child))\n",
        "\n",
        "        return max(depths) + 1"
      ],
      "execution_count": 126,
      "outputs": []
    },
    {
      "cell_type": "code",
      "metadata": {
        "id": "WtbtZ_Apkx5c"
      },
      "source": [
        "def get_chi_square(dataset: np.ndarray, feature: int) -> float:\n",
        "    _data = dataset[:, [feature, -1]]\n",
        "    unique_attributes = np.unique(_data[:, 0])\n",
        "\n",
        "    instances_count = _data.shape[0]\n",
        "\n",
        "    count_p = (_data[:, -1] == \"p\").sum()\n",
        "    count_e = instances_count - count_p\n",
        "\n",
        "    prob_0 = count_p / instances_count\n",
        "    prob_1 = count_e / instances_count\n",
        "\n",
        "    chi_square = 0\n",
        "    for att in unique_attributes:\n",
        "        df = (_data[:, 0] == att).sum()\n",
        "        pf = ((_data[:, 0] == att) & (_data[:, -1] == \"p\")).sum()\n",
        "        nf = df - pf\n",
        "\n",
        "        e0 = df * prob_0\n",
        "        e1 = df * prob_1\n",
        "\n",
        "        chi_square += (np.power(pf - e0, 2) / e0) + (np.power(nf - e1, 2) / e1)\n",
        "\n",
        "    return chi_square"
      ],
      "execution_count": 127,
      "outputs": []
    },
    {
      "cell_type": "code",
      "metadata": {
        "id": "L_wrGFzrbbB1",
        "colab": {
          "base_uri": "https://localhost:8080/",
          "height": 671
        },
        "outputId": "a6b51138-35b2-4e89-bd05-c501908abe86"
      },
      "source": [
        "p_values = [1, 0.5, 0.25, 0.1, 0.05, 0.0001]\n",
        "train_accs = []\n",
        "test_accs = []\n",
        "depths = []\n",
        "\n",
        "for p_value in p_values:\n",
        "    tree = build_tree(data=X_train, impurity=calc_entropy, gain_ratio=True, p_value=p_value)\n",
        "\n",
        "    depths.append(get_max_depth(node=tree))\n",
        "    train_accs.append(calc_accuracy(node=tree, dataset=X_train))\n",
        "    test_accs.append(calc_accuracy(node=tree, dataset=X_test))\n",
        "    \n",
        "best_p_value_idx = np.argmax(test_accs)\n",
        "\n",
        "plt.plot(p_values, train_accs, label=\"Train Dataset Accuracy\")\n",
        "plt.plot(p_values, test_accs, label=\"Test Dataset Accuracy\")\n",
        "plt.scatter(p_values[best_p_value_idx], test_accs[best_p_value_idx], color=\"r\", linewidths=20, label=\"The Best Tree!\")\n",
        "\n",
        "plt.title(\"Test, Train Accuracy vs. P-value\", fontsize=24)\n",
        "plt.xticks(p_values, [f'({p_values[_]}, {depths[_]})' for _ in range(len(depths))], rotation=45)\n",
        "plt.xlabel(\"(P-value, Depth)\", fontsize=16)\n",
        "plt.ylabel(\"Accuracy (percentage)]\", fontsize=16)\n",
        "\n",
        "plt.legend()\n",
        "plt.show()"
      ],
      "execution_count": 128,
      "outputs": [
        {
          "output_type": "display_data",
          "data": {
            "image/png": "[encoded data removed]",
            "text/plain": [
              "<Figure size 1008x720 with 1 Axes>"
            ]
          },
          "metadata": {
            "tags": [],
            "needs_background": "light"
          }
        }
      ]
    },
    {
      "cell_type": "code",
      "metadata": {
        "colab": {
          "base_uri": "https://localhost:8080/"
        },
        "id": "K91Wc41Aqrp4",
        "outputId": "7316e4c4-ac05-41bc-b893-0e871917b305"
      },
      "source": [
        "p_values[best_p_value_idx], test_accs[best_p_value_idx]"
      ],
      "execution_count": 129,
      "outputs": [
        {
          "output_type": "execute_result",
          "data": {
            "text/plain": [
              "(0.1, 89.51255539143278)"
            ]
          },
          "metadata": {
            "tags": []
          },
          "execution_count": 129
        }
      ]
    },
    {
      "cell_type": "markdown",
      "metadata": {
        "id": "pL1b38jfbbB1"
      },
      "source": [
        "Build the best 2 trees:\n",
        "1. tree_max_depth - the best tree according to max_depth pruning\n",
        "1. tree_chi - the best tree according to chi square pruning"
      ]
    },
    {
      "cell_type": "code",
      "metadata": {
        "id": "Dt5OYwK3MXiN"
      },
      "source": [
        "def build_best_post_pruning_tree(test_data: np.ndarray, train_data: np.ndarray, best_acc: float, tree_size: int) -> DecisionNode:\n",
        "    node = build_tree(data=train_data, impurity=calc_entropy, gain_ratio=True)\n",
        "\n",
        "    counts = [count_nodes(node=node)]\n",
        "    test_acc = [calc_accuracy(node=node, dataset=test_data)]\n",
        "    train_acc = [calc_accuracy(node=node, dataset=train_data)]\n",
        "\n",
        "    while len(node.children) != 0:\n",
        "        nodes_with_leafs = get_nodes_with_leafs(node=node)\n",
        "\n",
        "        accs = []\n",
        "        for idx in range(len(nodes_with_leafs)):\n",
        "            tmp = nodes_with_leafs[idx].children\n",
        "            nodes_with_leafs[idx].children = []\n",
        "\n",
        "            accs.append(calc_accuracy(node=node, dataset=test_data))\n",
        "\n",
        "            if accs[-1] == best_acc:\n",
        "                if tree_size == count_nodes(node=node):\n",
        "                    return node\n",
        "\n",
        "            nodes_with_leafs[idx].children = tmp\n",
        "\n",
        "        max_idx = np.argmax(accs)\n",
        "        nodes_with_leafs[max_idx].children = []\n",
        "\n",
        "        counts += [count_nodes(node=node)]\n",
        "        test_acc += [accs[max_idx]]\n",
        "        train_acc += [calc_accuracy(node=node, dataset=train_data)]"
      ],
      "execution_count": 130,
      "outputs": []
    },
    {
      "cell_type": "code",
      "metadata": {
        "id": "_j0Als9hp6PL"
      },
      "source": [
        "tree_post_pruning = build_best_post_pruning_tree(test_data=X_test, train_data=X_train, best_acc=best_post_pruning_acc, tree_size=best_post_pruning_tree_size)\n",
        "tree_chi = build_tree(data=X_train, impurity=calc_entropy, gain_ratio=True, chi=1, p_value=p_values[best_p_value_idx])"
      ],
      "execution_count": 131,
      "outputs": []
    },
    {
      "cell_type": "code",
      "metadata": {
        "colab": {
          "base_uri": "https://localhost:8080/"
        },
        "id": "-4CSJ9G8rmMr",
        "outputId": "9b0f2e91-3e00-441f-a997-a220322bebef"
      },
      "source": [
        "calc_accuracy(node=tree_post_pruning, dataset=X_test)"
      ],
      "execution_count": 132,
      "outputs": [
        {
          "output_type": "execute_result",
          "data": {
            "text/plain": [
              "88.92171344165436"
            ]
          },
          "metadata": {
            "tags": []
          },
          "execution_count": 132
        }
      ]
    },
    {
      "cell_type": "code",
      "metadata": {
        "colab": {
          "base_uri": "https://localhost:8080/"
        },
        "id": "v7x1AuGaruuc",
        "outputId": "db66cd91-5ac6-4942-8b5a-8232db0fb306"
      },
      "source": [
        "calc_accuracy(node=tree_chi, dataset=X_test)"
      ],
      "execution_count": 133,
      "outputs": [
        {
          "output_type": "execute_result",
          "data": {
            "text/plain": [
              "89.51255539143278"
            ]
          },
          "metadata": {
            "tags": []
          },
          "execution_count": 133
        }
      ]
    },
    {
      "cell_type": "markdown",
      "metadata": {
        "id": "DGLvfqdKbbB1"
      },
      "source": [
        "## Number of Nodes\n",
        "\n",
        "Of the two trees above we will choose the one with fewer nodes. Complete the function counts_nodes and print the number of nodes in each tree. (5 points) "
      ]
    },
    {
      "cell_type": "code",
      "metadata": {
        "id": "5GBXrKGXbbB2"
      },
      "source": [
        "def count_nodes(node: DecisionNode) -> int:\n",
        "    \"\"\"\n",
        "    Count the number of node in a given tree\n",
        "\n",
        "    Input:\n",
        "    - node: a node in the decision tree.\n",
        "\n",
        "    Output: the number of node in the tree.\n",
        "    \"\"\"\n",
        "    ###########################################################################\n",
        "    # TODO: Implement the function.                                           #\n",
        "    ###########################################################################\n",
        "\n",
        "    if node.is_leaf():\n",
        "        return 1\n",
        "\n",
        "    count = 1\n",
        "    for child in node.children:\n",
        "        count += count_nodes(child)\n",
        "\n",
        "    return count\n",
        "\n",
        "    ###########################################################################\n",
        "    #                             END OF YOUR CODE                            #\n",
        "    ###########################################################################"
      ],
      "execution_count": 134,
      "outputs": []
    },
    {
      "cell_type": "code",
      "metadata": {
        "colab": {
          "base_uri": "https://localhost:8080/"
        },
        "id": "-tfFciPpPmjj",
        "outputId": "04fcb232-90ba-4960-f0f6-8455359d0f1e"
      },
      "source": [
        "count_nodes(node=tree_post_pruning)"
      ],
      "execution_count": 135,
      "outputs": [
        {
          "output_type": "execute_result",
          "data": {
            "text/plain": [
              "60"
            ]
          },
          "metadata": {
            "tags": []
          },
          "execution_count": 135
        }
      ]
    },
    {
      "cell_type": "code",
      "metadata": {
        "colab": {
          "base_uri": "https://localhost:8080/"
        },
        "id": "0UJIEDopPrzL",
        "outputId": "a0eabbd5-3060-4f8f-c356-994843c07d63"
      },
      "source": [
        "count_nodes(node=tree_chi)"
      ],
      "execution_count": 136,
      "outputs": [
        {
          "output_type": "execute_result",
          "data": {
            "text/plain": [
              "55"
            ]
          },
          "metadata": {
            "tags": []
          },
          "execution_count": 136
        }
      ]
    },
    {
      "cell_type": "markdown",
      "metadata": {
        "id": "HchE3e_0bbB2"
      },
      "source": [
        "## Print the tree\n",
        "\n",
        "Complete the function `print_tree` and execute it on your chosen tree. Your tree should be visualized clearly. You can use the following example as a reference:\n",
        "```\n",
        "[ROOT, feature=X0],\n",
        "  [X0=a, feature=X2]\n",
        "    [X2=c, leaf]: [{1.0: 10}]\n",
        "    [X2=d, leaf]: [{0.0: 10}]\n",
        "  [X0=y, feature=X5], \n",
        "    [X5=a, leaf]: [{1.0: 5}]\n",
        "    [X5=s, leaf]: [{0.0: 10}]\n",
        "  [X0=e, leaf]: [{0.0: 25, 1.0: 50}]\n",
        "```\n",
        "In each brackets:\n",
        "* The first argument is the parent feature with the value that led to current node\n",
        "* The second argument is the selected feature of the current node\n",
        "* If the current node is a leaf, you need to print also the labels and their counts\n",
        "\n",
        "(5 points)"
      ]
    },
    {
      "cell_type": "code",
      "metadata": {
        "id": "gVYB8PdlsBbL"
      },
      "source": [
        "# you can change the function signeture\n",
        "def print_tree(node: DecisionNode, depth: int = 0, parent_feature: str = 'ROOT', feature_val: str = 'ROOT'):\n",
        "    '''\n",
        "    prints the tree according to the example above\n",
        "\n",
        "    Input:\n",
        "    - node: a node in the decision tree\n",
        "\n",
        "    This function has no return value\n",
        "    '''\n",
        "\n",
        "    ###########################################################################\n",
        "    # TODO: Implement the function.                                           #\n",
        "    ###########################################################################\n",
        "\n",
        "    if depth == 0:\n",
        "        print(f\"[ROOT: feature=X{node.feature}],\")\n",
        "    else: \n",
        "        print(f'{\" \" * depth}[X{parent_feature}={feature_val}, feature=X{node.feature}],')\n",
        "\n",
        "    if node.is_leaf():\n",
        "        labels, labels_counts = np.unique(node.data[:, -1], return_counts=True)\n",
        "        p = ''\n",
        "        for i in range(len(labels)):\n",
        "            p += \"[{}:{}]\".format(labels[i], labels_counts[i])\n",
        "        print(f'{\" \" * depth}[X{parent_feature}={feature_val}, leaf]: ' + p)\n",
        "        return\n",
        "    \n",
        "    for child in node.children:\n",
        "        print_tree(child, child.depth, node.feature, child.parent_splitter_value)\n",
        "    ###########################################################################\n",
        "    #                             END OF YOUR CODE                            #\n",
        "    ###########################################################################"
      ],
      "execution_count": 137,
      "outputs": []
    },
    {
      "cell_type": "code",
      "metadata": {
        "colab": {
          "base_uri": "https://localhost:8080/"
        },
        "id": "Qq0bKRiZTPu8",
        "outputId": "e40cf251-eb2e-49de-a67d-060b934761cd"
      },
      "source": [
        "print_tree(node=tree_post_pruning)"
      ],
      "execution_count": 139,
      "outputs": [
        {
          "output_type": "stream",
          "text": [
            "[ROOT: feature=X4],\n",
            " [X4=a, feature=X2],\n",
            " [X4=a, leaf]: [e:273][p:31]\n",
            " [X4=c, feature=X6],\n",
            " [X4=c, leaf]: [e:10][p:137]\n",
            " [X4=f, feature=X10],\n",
            "  [X10=f, feature=X2],\n",
            "  [X10=f, leaf]: [e:14][p:91]\n",
            "  [X10=k, feature=X11],\n",
            "   [X11=k, feature=X7],\n",
            "   [X11=k, leaf]: [e:118][p:951]\n",
            "   [X11=s, feature=X1],\n",
            "    [X1=s, feature=X0],\n",
            "     [X0=f, feature=X2],\n",
            "      [X2=e, feature=X13],\n",
            "       [X13=p, feature=XNone],\n",
            "       [X13=p, leaf]: [p:4]\n",
            "       [X13=w, feature=X20],\n",
            "        [X20=d, feature=XNone],\n",
            "        [X20=d, leaf]: [p:2]\n",
            "        [X20=l, feature=XNone],\n",
            "        [X20=l, leaf]: [e:1]\n",
            "      [X2=n, feature=XNone],\n",
            "      [X2=n, leaf]: [p:10]\n",
            "     [X0=k, feature=X20],\n",
            "     [X0=k, leaf]: [e:6][p:11]\n",
            "     [X0=x, feature=X13],\n",
            "     [X0=x, leaf]: [e:5][p:16]\n",
            "    [X1=y, feature=X20],\n",
            "    [X1=y, leaf]: [e:4][p:43]\n",
            "  [X10=s, feature=X19],\n",
            "  [X10=s, leaf]: [e:22][p:310]\n",
            " [X4=l, feature=X1],\n",
            "  [X1=f, feature=X0],\n",
            "  [X1=f, leaf]: [e:19][p:1]\n",
            "  [X1=s, feature=X2],\n",
            "   [X2=w, feature=X18],\n",
            "    [X18=k, feature=X0],\n",
            "     [X0=b, feature=X8],\n",
            "     [X0=b, leaf]: [e:12][p:2]\n",
            "     [X0=x, feature=X8],\n",
            "      [X8=g, feature=XNone],\n",
            "      [X8=g, leaf]: [e:3]\n",
            "      [X8=k, feature=X19],\n",
            "       [X19=n, feature=XNone],\n",
            "       [X19=n, leaf]: [e:1]\n",
            "       [X19=s, feature=XNone],\n",
            "       [X19=s, leaf]: [p:1]\n",
            "      [X8=n, feature=X20],\n",
            "       [X20=g, feature=XNone],\n",
            "       [X20=g, leaf]: [e:1]\n",
            "       [X20=m, feature=XNone],\n",
            "       [X20=m, leaf]: [p:1]\n",
            "      [X8=w, feature=X19],\n",
            "      [X8=w, leaf]: [e:1][p:1]\n",
            "    [X18=n, feature=X8],\n",
            "    [X18=n, leaf]: [e:27][p:6]\n",
            "    [X18=u, feature=XNone],\n",
            "    [X18=u, leaf]: [e:5]\n",
            "   [X2=y, feature=X8],\n",
            "   [X2=y, leaf]: [e:44][p:5]\n",
            "  [X1=y, feature=X20],\n",
            "  [X1=y, leaf]: [e:159][p:10]\n",
            " [X4=m, feature=X0],\n",
            "  [X0=f, feature=X5],\n",
            "   [X5=a, feature=XNone],\n",
            "   [X5=a, leaf]: [p:5]\n",
            "   [X5=f, feature=X2],\n",
            "    [X2=c, feature=XNone],\n",
            "    [X2=c, leaf]: [e:1]\n",
            "    [X2=e, feature=XNone],\n",
            "    [X2=e, leaf]: [p:2]\n",
            "    [X2=n, feature=XNone],\n",
            "    [X2=n, leaf]: [p:1]\n",
            "  [X0=k, feature=X8],\n",
            "  [X0=k, leaf]: [e:1][p:10]\n",
            "  [X0=x, feature=XNone],\n",
            "  [X0=x, leaf]: [p:7]\n",
            " [X4=n, feature=X7],\n",
            "  [X7=b, feature=X18],\n",
            "  [X7=b, leaf]: [e:2197][p:286]\n",
            "  [X7=n, feature=X3],\n",
            "   [X3=f, feature=X10],\n",
            "    [X10=f, feature=X1],\n",
            "    [X10=f, leaf]: [e:17][p:3]\n",
            "    [X10=k, feature=XNone],\n",
            "    [X10=k, leaf]: [p:25]\n",
            "    [X10=s, feature=X2],\n",
            "    [X10=s, leaf]: [e:118][p:15]\n",
            "    [X10=y, feature=XNone],\n",
            "    [X10=y, leaf]: [p:7]\n",
            "   [X3=t, feature=XNone],\n",
            "   [X3=t, leaf]: [p:8]\n",
            " [X4=p, feature=X0],\n",
            " [X4=p, leaf]: [e:8][p:175]\n",
            " [X4=s, feature=X13],\n",
            " [X4=s, leaf]: [e:38][p:380]\n",
            " [X4=y, feature=X1],\n",
            " [X4=y, leaf]: [e:49][p:382]\n"
          ],
          "name": "stdout"
        }
      ]
    },
    {
      "cell_type": "code",
      "metadata": {
        "colab": {
          "base_uri": "https://localhost:8080/"
        },
        "id": "SUUiIowls1VV",
        "outputId": "b7f78fac-4e88-4005-ae20-1054341325e8"
      },
      "source": [
        "print_tree(node=tree_chi)"
      ],
      "execution_count": 138,
      "outputs": [
        {
          "output_type": "stream",
          "text": [
            "[ROOT: feature=X4],\n",
            " [X4=a, feature=XNone],\n",
            " [X4=a, leaf]: [e:273][p:31]\n",
            " [X4=c, feature=XNone],\n",
            " [X4=c, leaf]: [e:10][p:137]\n",
            " [X4=f, feature=X10],\n",
            "  [X10=f, feature=X2],\n",
            "   [X2=b, feature=XNone],\n",
            "   [X2=b, leaf]: [e:8][p:30]\n",
            "   [X2=g, feature=XNone],\n",
            "   [X2=g, leaf]: [e:5][p:26]\n",
            "   [X2=w, feature=XNone],\n",
            "   [X2=w, leaf]: [e:1][p:35]\n",
            "  [X10=k, feature=XNone],\n",
            "  [X10=k, leaf]: [e:134][p:1037]\n",
            "  [X10=s, feature=XNone],\n",
            "  [X10=s, leaf]: [e:22][p:310]\n",
            " [X4=l, feature=X1],\n",
            "  [X1=f, feature=XNone],\n",
            "  [X1=f, leaf]: [e:19][p:1]\n",
            "  [X1=s, feature=XNone],\n",
            "  [X1=s, leaf]: [e:94][p:16]\n",
            "  [X1=y, feature=XNone],\n",
            "  [X1=y, leaf]: [e:159][p:10]\n",
            " [X4=m, feature=XNone],\n",
            " [X4=m, leaf]: [e:2][p:25]\n",
            " [X4=n, feature=X7],\n",
            "  [X7=b, feature=X18],\n",
            "   [X18=b, feature=XNone],\n",
            "   [X18=b, leaf]: [e:34][p:2]\n",
            "   [X18=k, feature=XNone],\n",
            "   [X18=k, leaf]: [e:843][p:93]\n",
            "   [X18=n, feature=XNone],\n",
            "   [X18=n, leaf]: [e:882][p:105]\n",
            "   [X18=o, feature=X19],\n",
            "    [X19=c, feature=XNone],\n",
            "    [X19=c, leaf]: [e:12][p:4]\n",
            "    [X19=v, feature=XNone],\n",
            "    [X19=v, leaf]: [e:16]\n",
            "   [X18=r, feature=XNone],\n",
            "   [X18=r, leaf]: [e:6][p:46]\n",
            "   [X18=w, feature=XNone],\n",
            "   [X18=w, leaf]: [e:369][p:33]\n",
            "   [X18=y, feature=XNone],\n",
            "   [X18=y, leaf]: [e:35][p:3]\n",
            "  [X7=n, feature=X3],\n",
            "   [X3=f, feature=X10],\n",
            "    [X10=f, feature=XNone],\n",
            "    [X10=f, leaf]: [e:17][p:3]\n",
            "    [X10=k, feature=XNone],\n",
            "    [X10=k, leaf]: [p:25]\n",
            "    [X10=s, feature=X2],\n",
            "     [X2=c, feature=XNone],\n",
            "     [X2=c, leaf]: [e:10]\n",
            "     [X2=g, feature=XNone],\n",
            "     [X2=g, leaf]: [e:36][p:1]\n",
            "     [X2=n, feature=XNone],\n",
            "     [X2=n, leaf]: [e:37][p:9]\n",
            "     [X2=r, feature=XNone],\n",
            "     [X2=r, leaf]: [e:9][p:4]\n",
            "     [X2=u, feature=XNone],\n",
            "     [X2=u, leaf]: [e:14]\n",
            "     [X2=w, feature=XNone],\n",
            "     [X2=w, leaf]: [e:12][p:1]\n",
            "    [X10=y, feature=XNone],\n",
            "    [X10=y, leaf]: [p:7]\n",
            "   [X3=t, feature=XNone],\n",
            "   [X3=t, leaf]: [p:8]\n",
            " [X4=p, feature=X0],\n",
            "  [X0=f, feature=X18],\n",
            "   [X18=k, feature=XNone],\n",
            "   [X18=k, leaf]: [e:6][p:43]\n",
            "   [X18=n, feature=XNone],\n",
            "   [X18=n, leaf]: [e:1][p:43]\n",
            "  [X0=x, feature=XNone],\n",
            "  [X0=x, leaf]: [e:1][p:89]\n",
            " [X4=s, feature=X13],\n",
            "  [X13=p, feature=XNone],\n",
            "  [X13=p, leaf]: [e:12][p:190]\n",
            "  [X13=w, feature=X12],\n",
            "   [X12=p, feature=XNone],\n",
            "   [X12=p, leaf]: [e:18][p:88]\n",
            "   [X12=w, feature=X0],\n",
            "    [X0=f, feature=XNone],\n",
            "    [X0=f, leaf]: [p:38]\n",
            "    [X0=k, feature=XNone],\n",
            "    [X0=k, leaf]: [e:3][p:30]\n",
            "    [X0=x, feature=XNone],\n",
            "    [X0=x, leaf]: [e:5][p:34]\n",
            " [X4=y, feature=X1],\n",
            "  [X1=s, feature=XNone],\n",
            "  [X1=s, leaf]: [e:18][p:194]\n",
            "  [X1=y, feature=XNone],\n",
            "  [X1=y, leaf]: [e:31][p:188]\n"
          ],
          "name": "stdout"
        }
      ]
    }
  ]
}